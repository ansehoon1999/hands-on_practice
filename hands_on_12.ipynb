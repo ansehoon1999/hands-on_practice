{
  "nbformat": 4,
  "nbformat_minor": 0,
  "metadata": {
    "colab": {
      "name": "hands-on-12.ipynb",
      "provenance": [],
      "collapsed_sections": [],
      "toc_visible": true
    },
    "kernelspec": {
      "name": "python3",
      "display_name": "Python 3"
    },
    "language_info": {
      "name": "python"
    }
  },
  "cells": [
    {
      "cell_type": "markdown",
      "metadata": {
        "id": "u22DF2Cz9FQt"
      },
      "source": [
        "# 사용자 정의 모델과 훈련 알고리즘"
      ]
    },
    {
      "cell_type": "markdown",
      "metadata": {
        "id": "uqGqIcx49J9V"
      },
      "source": [
        "사용자 정의 손실 함수\n",
        "\n",
        "- 평균 제곱 오차: 큰 오차에 너무 과한 벌칙을 가하기 때문에 정확하지 않은 모델 야기\n",
        "- 후버 손실: 평균 제곱 오차의 한계를 해결, 일정 범위 안에 있으면 오차를 제곱하고 밖에 있으면 오차의 절댓값을 구함"
      ]
    },
    {
      "cell_type": "markdown",
      "metadata": {
        "id": "cljfXlP_-RW9"
      },
      "source": [
        "![스크린샷 2021-07-07 오후 9.36.45.png](data:image/png;base64,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)"
      ]
    },
    {
      "cell_type": "code",
      "metadata": {
        "id": "pw9GYOKF9Cc4"
      },
      "source": [
        "import torch\n",
        "import torch.nn.functional as F\n",
        "\n",
        "curr_q = torch.FloatTensor([10,11,12,10,9])\n",
        "target_q = torch.FloatTensor([12,8,10,13,11])\n",
        "loss = F.smooth_l1_loss(curr_q, target_q)\n"
      ],
      "execution_count": null,
      "outputs": []
    },
    {
      "cell_type": "markdown",
      "metadata": {
        "id": "Hx7knXR--zqU"
      },
      "source": [
        "모델 저장하고 로드하기\n",
        "\n",
        "- 추론을 위해 모델의 학습된 매개변수만 저장하는 방법\n",
        "- 전체 모델 저장 및 불러오기\n",
        "- 추론 / 학습 재개를 위해 일반 체크포인트 저장하기 & 불러오기"
      ]
    },
    {
      "cell_type": "code",
      "metadata": {
        "id": "oX5KjlrI_iJS"
      },
      "source": [
        "#1\n",
        "\n",
        "torch.save(model.state_dict(), PATH)\n",
        "model = TheModelClass(*args, **kwargs)\n",
        "model.load_state_dict(torch.load(PATH))\n",
        "model.eval()\n",
        "\n",
        "#2\n",
        "torch.save(model, PATH)\n",
        "model = torch.load(PATH)\n",
        "model.eval()\n",
        "\n",
        "#3\n",
        "torch.save({\n",
        "            'epoch': epoch,\n",
        "            'model_state_dict': model.state_dict(),\n",
        "            'optimizer_state_dict': optimizer.state_dict(),\n",
        "            'loss': loss,\n",
        "            ...\n",
        "            }, PATH)\n",
        "\n",
        "checkpoint = torch.load(PATH)\n",
        "model.load_state_dict(checkpoint['model_state_dict'])\n",
        "optimizer.load_state_dict(checkpoint['optimizer_state_dict'])\n",
        "epoch = checkpoint['epoch']\n",
        "loss = checkpoint['loss']\n",
        "\n",
        "model.eval()\n",
        "model.train()"
      ],
      "execution_count": null,
      "outputs": []
    },
    {
      "cell_type": "markdown",
      "metadata": {
        "id": "92Td5DEwJWiQ"
      },
      "source": [
        "# 새 섹션"
      ]
    }
  ]
}