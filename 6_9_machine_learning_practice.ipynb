{
  "nbformat": 4,
  "nbformat_minor": 0,
  "metadata": {
    "colab": {
      "name": "6_9_machine_learning_practice.ipynb",
      "provenance": [],
      "authorship_tag": "ABX9TyPuEObo/lynG1rwYk8thaJg",
      "include_colab_link": true
    },
    "kernelspec": {
      "name": "python3",
      "display_name": "Python 3"
    },
    "language_info": {
      "name": "python"
    }
  },
  "cells": [
    {
      "cell_type": "markdown",
      "metadata": {
        "id": "view-in-github",
        "colab_type": "text"
      },
      "source": [
        "<a href=\"https://colab.research.google.com/github/ansehoon1999/hands-on_practice/blob/main/6_9_machine_learning_practice.ipynb\" target=\"_parent\"><img src=\"https://colab.research.google.com/assets/colab-badge.svg\" alt=\"Open In Colab\"/></a>"
      ]
    },
    {
      "cell_type": "markdown",
      "metadata": {
        "id": "kbLuXlsnNP_w"
      },
      "source": [
        "#6"
      ]
    },
    {
      "cell_type": "markdown",
      "metadata": {
        "id": "mm908xfxNYEY"
      },
      "source": [
        "1. 결정트리\n",
        "\n",
        "2. 불순도\n",
        "\n",
        "3. CART 훈련 알고리즘\n",
        "\n",
        "\n",
        "4. 엔트로피\n",
        "\n",
        "\n",
        "5. 규제 매개변수\n",
        "\n",
        "\n",
        "6. 백만 개의 데이터로 학습시킬 떄 깊이는 어느정도?\n",
        "\n",
        "7. 한 노드의 지니 불순도 부모 노드 VS 자식노드\n",
        "\n",
        "\n",
        "8. max_depth를 낮춰서 과대 적합을 방지할 수 있나?\n",
        "\n",
        "9. 과소적합이 되었다고 스케일을 조정해야 하는가?\n",
        "\n"
      ]
    },
    {
      "cell_type": "markdown",
      "metadata": {
        "id": "7dUMCgkkNYBA"
      },
      "source": [
        "#7"
      ]
    },
    {
      "cell_type": "markdown",
      "metadata": {
        "id": "PWo71mZ_NX9f"
      },
      "source": [
        "1. 투표 기반의 분류기\n",
        "\n",
        "2. 큰 수의 법칙\n",
        "\n",
        "3. 직접 투표 VS 간접 투표\n",
        "\n",
        "4. 배깅 VS 페이스팅\n",
        "\n",
        "\n",
        "\n",
        "5. OOB 평가\n",
        ".\n",
        "\n",
        "6. 랜덤 패치 방식 VS 랜덤 서브스페이스\n",
        "\n",
        "\n",
        "7. 랜덤 포레스트\n",
        "\n",
        "8. 익스트림 랜덤 트리\n",
        "\n",
        "\n",
        "\n",
        "9. 부스팅\n",
        "\n",
        "10. 스태킹\n",
        "\n",
        "\n",
        "11, 배깅 앙상블 훈련을 여러 서버에 분산할 수 있을까?\n",
        "\n",
        "12. 엑스트라 트리 > 랜덤 포레스트\n",
        "\n",
        "\n",
        "13. 에이다 부스팅 앙상블 훈련이 과소적합?\n",
        "\n",
        "14. 과소 적합?\n",
        "\n",
        "\n"
      ]
    },
    {
      "cell_type": "markdown",
      "metadata": {
        "id": "faqnpEljNX6N"
      },
      "source": [
        "#8"
      ]
    },
    {
      "cell_type": "markdown",
      "metadata": {
        "id": "Riyic4YNNX3e"
      },
      "source": [
        "1. 투영과 매니폴드 학습\n",
        "\n",
        "\n",
        "\n",
        "2. PCA\n",
        "\n",
        "\n",
        "3. 설명된 분산의 비율\n",
        "\n",
        "4. 재구성 오차\n",
        "\n",
        "5. 랜덤 PCA\n",
        "\n",
        "6. 점진적 PCA\n",
        "\n",
        "7. 커널 PCA\n",
        "-  커널 트릭: \n",
        "- 커널 PCA: \n",
        "\n",
        "8. LLE (지역 선형 임베딩)\n",
        "\n",
        "\n",
        "9. 차원 축소의 목적\n",
        "\n",
        "\n",
        "10. 단점\n",
        "\n",
        "\n",
        "\n",
        "11. 차원의 저주\n",
        "\n",
        "\n",
        "12. 데이터 복원\n",
        "\n",
        "13. 매우 비선형적인 데이터셋의 차원을 축소하는데 PCA를 사용하는가?\n",
        "\n",
        "14. 언제 어떤 PCA를 사용하나요?\n",
        "\n",
        "15. 차원 축소 알고리즘 성능 평가\n",
        "\n"
      ]
    },
    {
      "cell_type": "markdown",
      "metadata": {
        "id": "3IXWutsjNXjx"
      },
      "source": [
        "#9"
      ]
    },
    {
      "cell_type": "markdown",
      "metadata": {
        "id": "GtdYG1tgT2A_"
      },
      "source": [
        "1. 군집\n",
        "\n",
        "2. K-평균\n",
        "\n",
        "3. 이너셔\n",
        "\n",
        "\n",
        "4. 실루엣 점수: b-a / (max(a, b)) \n",
        "\n",
        "\n",
        "5. 군집을 사용한 준지도 학습\n",
        "\n",
        "\n",
        "6. DBSCAN\n",
        "\n",
        "7. 가우시안 혼합 모델\n"
      ]
    }
  ]
}