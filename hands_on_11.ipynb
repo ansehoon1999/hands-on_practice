{
  "nbformat": 4,
  "nbformat_minor": 0,
  "metadata": {
    "colab": {
      "name": "hands-on-11.ipynb",
      "provenance": [],
      "collapsed_sections": [],
      "toc_visible": true
    },
    "kernelspec": {
      "name": "python3",
      "display_name": "Python 3"
    },
    "language_info": {
      "name": "python"
    }
  },
  "cells": [
    {
      "cell_type": "markdown",
      "metadata": {
        "id": "ND-ztMUNwOVH"
      },
      "source": [
        "# 심층 신경망 훈련하기"
      ]
    },
    {
      "cell_type": "markdown",
      "metadata": {
        "id": "n-u2J8FEwU1F"
      },
      "source": [
        "✔ 그레이디언트 소실, 그레이디언트 폭주 문제 해결하기\n",
        "\n",
        "- weight initialization(글로럿과 He 초기화) -> 이 부분은 학교에서 배웠기에 넘어감\n",
        "\n",
        "- 다른 activation function을 사용하기\n",
        "\n",
        "- batch normalization 사용하기\n",
        "\n",
        "- 그레이디언트 폭주 문제를 해결하기 위해서 learning rate를 낮추기\n"
      ]
    },
    {
      "cell_type": "markdown",
      "metadata": {
        "id": "w0Gr-k5Dxn_Z"
      },
      "source": [
        "#  ✔ Initialization 예제 코드"
      ]
    },
    {
      "cell_type": "code",
      "metadata": {
        "id": "4VOuE2fYxynv"
      },
      "source": [
        "import torch\n",
        "import torchvision.datasets as dsets\n",
        "import torchvision.transforms as transforms\n",
        "import random\n",
        "\n",
        "device = 'cuda' if torch.cuda.is_available() else 'cpu'\n",
        "\n",
        "random.seed(777)\n",
        "torch.manual_seed(777)\n",
        "\n",
        "learning_rate = 0.001\n",
        "training_epochs = 15\n",
        "batch_size = 100\n",
        "\n",
        "mnist_train = dsets.MNIST(root = 'MNIST_data/', train =True, transform = transforms.ToTensor(), download = True)\n",
        "mnist_test = dsets.MNIST(root = 'MNIST_data/', train = False, transform = transforms.ToTensor(), download = True)\n",
        "\n",
        "data_loader = torch.utils.data.DataLoader(dataset = mnist_train, batch_size = batch_size, shuffle=True, drop_last = True)\n",
        "\n",
        "linear1 = torch.nn.Linear(784, 256, bias=True)\n",
        "linear2 = torch.nn.Linear(256, 256, bias=True)\n",
        "linear3 = torch.nn.Linear(256, 10, bias=True)\n",
        "relu = torch.nn.ReLU()\n",
        "\n",
        "#weight initialization section\n",
        "torch.nn.init.xavier_uniform_(linear1.weight)\n",
        "torch.nn.init.xavier_uniform_(linear2.weight)\n",
        "torch.nn.init.xavier_uniform_(linear3.weight)\n",
        "\n",
        "model = torch.nn.Sequential(linear1, relu, linear2, relu, linear3).to(device)\n",
        "criterion = torch.nn.CrossEntropyLoss().to(device)\n",
        "optimizer = torch.optim.Adam(model.parameters(), lr = learning_rate)\n",
        "\n",
        "total_batch = len(data_loader)\n",
        "for epoch in range(training_epochs) :\n",
        "  avg_cost = 0\n",
        "\n",
        "  for X, Y in data_loader :\n",
        "    X = X.view(-1, 784).to(device)\n",
        "    Y = Y.to(device)\n",
        "\n",
        "    optimizer.zero_grad()\n",
        "    hypothesis = model(X)\n",
        "    cost = criterion(hypothesis, Y)\n",
        "    cost.backward()\n",
        "    optimizer.step()\n",
        "\n",
        "    avg_cost += cost / total_batch\n",
        "\n",
        "  print('Epoch: ', '%04d' % (epoch + 1), 'cost=', '{:.9f}'.format(avg_cost))\n",
        "  print('Learning finished')\n",
        "\n",
        "  with torch.no_grad() :\n",
        "    X_test = mnist_test.test_data.view(-1, 784).float().to(device)\n",
        "    Y_test = mnist_test.test_labels.to(device)\n",
        "\n",
        "    prediction = model(X_test)\n",
        "    correct_prediction = torch.argmax(prediction, 1) == Y_test\n",
        "    accuracy = correct_prediction.float().mean()\n",
        "    print('Accuracy: ', accuracy.item())\n",
        "\n",
        "    r = random.randint(0, len(mnist_test) - 1)\n",
        "    X_single_data = mnist_test.test_data[r:r + 1].view(-1, 28 * 28).float().to(device)\n",
        "    Y_single_data = mnist_test.test_labels[r:r + 1].to(device)\n",
        "\n",
        "    print('Label: ', Y_single_data.item())\n",
        "    single_prediction = model(X_single_data)\n",
        "    print('Prediction: ', torch.argmax(single_prediction, 1).item())\n",
        "\n",
        "\n",
        "\n"
      ],
      "execution_count": null,
      "outputs": []
    },
    {
      "cell_type": "markdown",
      "metadata": {
        "id": "ERy1-1n36grT"
      },
      "source": [
        "# ✔ batch normalization 예제 코드"
      ]
    },
    {
      "cell_type": "code",
      "metadata": {
        "id": "MYImjWKF40IU"
      },
      "source": [
        "bn1 = nn.BatchNormal1d(32)\n",
        "bn2 = nn.BatchNormal1d(32)"
      ],
      "execution_count": null,
      "outputs": []
    },
    {
      "cell_type": "markdown",
      "metadata": {
        "id": "bQUn4j0o7cRT"
      },
      "source": [
        "# ✔ 그레이디언트 클리핑 예제 코드"
      ]
    },
    {
      "cell_type": "markdown",
      "metadata": {
        "id": "ytHvDRBf7jqZ"
      },
      "source": [
        "✔ 그레이디언트 폭주 문제를 완화하는 방법으로 역전파가 될 때 일정 임곗값을 넘어서지 못하게 그레이디언트를 잘라내는 방법\n",
        "\n",
        "✔ 만약 그레이디언트 벡터의 모든 원소를 -1.0과 1.0 사이로 클리핑한다면 모든 편미분 값을 -1.0에서 1.0 사이로 잘라낸다."
      ]
    },
    {
      "cell_type": "code",
      "metadata": {
        "id": "xV99UwEU3Z7T"
      },
      "source": [
        "learning_rate = 1.\n",
        "max_grad_norm = 5.\n",
        "\n",
        "optimizer = optim.SGD(model.parameters(), lr=learning_rate)\n",
        "torch_utils.clip_grad_norm_(model.parameters(), max_grad_nom)\n",
        "\n",
        "optimizer.step()\n"
      ],
      "execution_count": null,
      "outputs": []
    },
    {
      "cell_type": "markdown",
      "metadata": {
        "id": "szcAjzc0TDo4"
      },
      "source": [
        "# ✔ 옵티마이저(충분히 배운 내용)"
      ]
    },
    {
      "cell_type": "markdown",
      "metadata": {
        "id": "e8u5AvJ_TMw8"
      },
      "source": [
        "- 확률적 경사 하강법(sgd)\n",
        "- 모멘텀 최적화:\n",
        "처음에는 천천히, 경사가 급해지면 빠르게\n",
        "- 네스테로프 가속 경사:\n",
        "모멘텀 최적화의 한 변종으로 기본 모멘텀 최적화보다 빠름, 방향 역시 고려하기 때문에 더 빠르게 골짜기로 잡아당긴다.\n",
        "- AdaGrad:\n",
        "가장 가파른 차원을 따라 그레이디언트 벡터의 스케일을 감소시켜 문제를 해결함\n",
        "- RMSProp:\n",
        "AdaGrad에 감쇠율 적용 \n",
        "- Adam:\n",
        "모멘텀 최적화 + RMSProp 아이디어 합치기\n"
      ]
    },
    {
      "cell_type": "markdown",
      "metadata": {
        "id": "sG99FocAWkm7"
      },
      "source": [
        "# ✔ scheduler"
      ]
    },
    {
      "cell_type": "markdown",
      "metadata": {
        "id": "4fTUWEq-WjAy"
      },
      "source": [
        "- 학습 스케줄\n",
        "큰 학습률로 시작하고 학습 속도가 느려질 때 학습률을 낮추며 좋은 솔루션을 더 빨리 발견하는 방법\n",
        "- decay는 학습률을 나누기 위해 수행할 스텝 수의 역수"
      ]
    },
    {
      "cell_type": "code",
      "metadata": {
        "id": "qPCbiDK_TMam"
      },
      "source": [
        "def exponential_decay_fn(epoch) :\n",
        "  return 0.01 * 0.1 **(epoch/20)\n",
        "\n",
        "def exponential_decay(lr0, s) :\n",
        "  def exponential_decay_fn(epoch) :\n",
        "    return lr0 * 0.1 ** (epoch / 2) \n",
        "  return exponential_decay_fn\n",
        "\n",
        "exponential_decay_fn = exponential_decay(lr0 = 0.01, s=20)\n"
      ],
      "execution_count": null,
      "outputs": []
    },
    {
      "cell_type": "markdown",
      "metadata": {
        "id": "hcytV939XhEy"
      },
      "source": [
        "# ✔ regularization"
      ]
    },
    {
      "cell_type": "markdown",
      "metadata": {
        "id": "2wUV6OesX9EE"
      },
      "source": [
        "- l1과 l2 규제\n",
        "-dropout:\n",
        "특정 뉴런의 일부를 제거하는 것\n",
        "- 맥스-노름 규제: 규제 손실 항을 추가하지 않고 일반적으로 훈련 스텝이 끝나고 |w|를 계산하고 필요하면 w의 스케일을 조정함.\n"
      ]
    },
    {
      "cell_type": "code",
      "metadata": {
        "id": "W7I9lAMo3Z2o"
      },
      "source": [
        "dropout = torch.nn.Dropout(p=drop_prob)\n",
        "\n",
        "a = torch.arange(9, dtype = torch.float) - 4\n",
        "max_norm = torch.norm(a)"
      ],
      "execution_count": null,
      "outputs": []
    }
  ]
}