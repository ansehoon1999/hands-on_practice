{
  "nbformat": 4,
  "nbformat_minor": 0,
  "metadata": {
    "colab": {
      "name": "1-5_machine_learning.ipynb",
      "provenance": [],
      "authorship_tag": "ABX9TyNUODsxzbtwGIvbCC52wphg",
      "include_colab_link": true
    },
    "kernelspec": {
      "name": "python3",
      "display_name": "Python 3"
    },
    "language_info": {
      "name": "python"
    }
  },
  "cells": [
    {
      "cell_type": "markdown",
      "metadata": {
        "id": "view-in-github",
        "colab_type": "text"
      },
      "source": [
        "<a href=\"https://colab.research.google.com/github/ansehoon1999/hands-on_practice/blob/main/1_5_machine_learning.ipynb\" target=\"_parent\"><img src=\"https://colab.research.google.com/assets/colab-badge.svg\" alt=\"Open In Colab\"/></a>"
      ]
    },
    {
      "cell_type": "markdown",
      "metadata": {
        "id": "g1AJitJw5cGj"
      },
      "source": [
        "#1단원"
      ]
    },
    {
      "cell_type": "markdown",
      "metadata": {
        "id": "egG0dQVv5eEU"
      },
      "source": [
        "1. 머신러닝을 어떻게 정의할 수 있는가?\n",
        "\n",
        "-  데이터에서 컴퓨터가 학습할 수 있도록 프로그래밍하는 과학\n",
        "\n",
        "2. "
      ]
    }
  ]
}