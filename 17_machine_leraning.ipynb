{
  "nbformat": 4,
  "nbformat_minor": 0,
  "metadata": {
    "colab": {
      "name": "17_machine_leraning.ipynb",
      "provenance": [],
      "authorship_tag": "ABX9TyO51glWb4qhnq8aYC+QMDiY",
      "include_colab_link": true
    },
    "kernelspec": {
      "name": "python3",
      "display_name": "Python 3"
    },
    "language_info": {
      "name": "python"
    }
  },
  "cells": [
    {
      "cell_type": "markdown",
      "metadata": {
        "id": "view-in-github",
        "colab_type": "text"
      },
      "source": [
        "<a href=\"https://colab.research.google.com/github/ansehoon1999/hands-on_practice/blob/main/17_machine_leraning.ipynb\" target=\"_parent\"><img src=\"https://colab.research.google.com/assets/colab-badge.svg\" alt=\"Open In Colab\"/></a>"
      ]
    },
    {
      "cell_type": "code",
      "metadata": {
        "colab": {
          "base_uri": "https://localhost:8080/"
        },
        "id": "muxP-oIIREsl",
        "outputId": "c728846c-4d2a-41cc-e369-bbb7cee5068e"
      },
      "source": [
        "# Python ≥3.5 is required\n",
        "import sys\n",
        "assert sys.version_info >= (3, 5)\n",
        "\n",
        "# Is this notebook running on Colab or Kaggle?\n",
        "IS_COLAB = \"google.colab\" in sys.modules\n",
        "IS_KAGGLE = \"kaggle_secrets\" in sys.modules\n",
        "\n",
        "# Scikit-Learn ≥0.20 is required\n",
        "import sklearn\n",
        "assert sklearn.__version__ >= \"0.20\"\n",
        "\n",
        "# TensorFlow ≥2.0 is required\n",
        "import tensorflow as tf\n",
        "from tensorflow import keras\n",
        "assert tf.__version__ >= \"2.0\"\n",
        "\n",
        "if not tf.config.list_physical_devices('GPU'):\n",
        "    print(\"No GPU was detected. LSTMs and CNNs can be very slow without a GPU.\")\n",
        "    if IS_COLAB:\n",
        "        print(\"Go to Runtime > Change runtime and select a GPU hardware accelerator.\")\n",
        "    if IS_KAGGLE:\n",
        "        print(\"Go to Settings > Accelerator and select GPU.\")\n",
        "\n",
        "# Common imports\n",
        "import numpy as np\n",
        "import os\n",
        "\n",
        "# to make this notebook's output stable across runs\n",
        "np.random.seed(42)\n",
        "tf.random.set_seed(42)\n",
        "\n",
        "# To plot pretty figures\n",
        "%matplotlib inline\n",
        "import matplotlib as mpl\n",
        "import matplotlib.pyplot as plt\n",
        "mpl.rc('axes', labelsize=14)\n",
        "mpl.rc('xtick', labelsize=12)\n",
        "mpl.rc('ytick', labelsize=12)\n",
        "\n",
        "# Where to save the figures\n",
        "PROJECT_ROOT_DIR = \".\"\n",
        "CHAPTER_ID = \"autoencoders\"\n",
        "IMAGES_PATH = os.path.join(PROJECT_ROOT_DIR, \"images\", CHAPTER_ID)\n",
        "os.makedirs(IMAGES_PATH, exist_ok=True)\n",
        "\n",
        "def save_fig(fig_id, tight_layout=True, fig_extension=\"png\", resolution=300):\n",
        "    path = os.path.join(IMAGES_PATH, fig_id + \".\" + fig_extension)\n",
        "    print(\"Saving figure\", fig_id)\n",
        "    if tight_layout:\n",
        "        plt.tight_layout()\n",
        "    plt.savefig(path, format=fig_extension, dpi=resolution)\n",
        "\n",
        "def plot_image(image):\n",
        "    plt.imshow(image, cmap=\"binary\")\n",
        "    plt.axis(\"off\")"
      ],
      "execution_count": 1,
      "outputs": [
        {
          "output_type": "stream",
          "name": "stdout",
          "text": [
            "No GPU was detected. LSTMs and CNNs can be very slow without a GPU.\n",
            "Go to Runtime > Change runtime and select a GPU hardware accelerator.\n"
          ]
        }
      ]
    },
    {
      "cell_type": "code",
      "metadata": {
        "id": "-hk3yFRqRj1R"
      },
      "source": [
        "np.random.seed(4)\n",
        "\n",
        "def generate_3d_data(m, w1=0.1, w2=0.3, noise=0.1):\n",
        "    angles = np.random.rand(m) * 3 * np.pi / 2 - 0.5\n",
        "    data = np.empty((m, 3))\n",
        "    data[:, 0] = np.cos(angles) + np.sin(angles)/2 + noise * np.random.randn(m) / 2\n",
        "    data[:, 1] = np.sin(angles) * 0.7 + noise * np.random.randn(m) / 2\n",
        "    data[:, 2] = data[:, 0] * w1 + data[:, 1] * w2 + noise * np.random.randn(m)\n",
        "    return data\n",
        "\n",
        "X_train = generate_3d_data(60)\n",
        "X_train = X_train - X_train.mean(axis=0, keepdims=0)"
      ],
      "execution_count": 2,
      "outputs": []
    },
    {
      "cell_type": "code",
      "metadata": {
        "id": "8Ya3Haw2O7Nt"
      },
      "source": [
        "np.random.seed(42)\n",
        "tf.random.set_seed(42)\n",
        "\n",
        "encoder = keras.models.Sequential([keras.layers.Dense(2, input_shape=[3])])\n",
        "decoder = keras.models.Sequential([keras.layers.Dense(3, input_shape=[2])])\n",
        "autoencoder = keras.models.Sequential([encoder, decoder])\n",
        "\n",
        "autoencoder.compile(loss=\"mse\", optimizer=keras.optimizers.SGD(learning_rate=1.5))"
      ],
      "execution_count": 3,
      "outputs": []
    },
    {
      "cell_type": "code",
      "metadata": {
        "colab": {
          "base_uri": "https://localhost:8080/"
        },
        "id": "ppAWNs2uRpSx",
        "outputId": "1bcbef77-f829-4ab4-c150-5e35ce211633"
      },
      "source": [
        "history = autoencoder.fit(X_train, X_train, epochs = 20)\n",
        "codings = encoder.predict(X_train)"
      ],
      "execution_count": 4,
      "outputs": [
        {
          "output_type": "stream",
          "name": "stdout",
          "text": [
            "Epoch 1/20\n",
            "2/2 [==============================] - 1s 4ms/step - loss: 0.2547\n",
            "Epoch 2/20\n",
            "2/2 [==============================] - 0s 3ms/step - loss: 0.1032\n",
            "Epoch 3/20\n",
            "2/2 [==============================] - 0s 3ms/step - loss: 0.0551\n",
            "Epoch 4/20\n",
            "2/2 [==============================] - 0s 10ms/step - loss: 0.0503\n",
            "Epoch 5/20\n",
            "2/2 [==============================] - 0s 8ms/step - loss: 0.0839\n",
            "Epoch 6/20\n",
            "2/2 [==============================] - 0s 5ms/step - loss: 0.2223\n",
            "Epoch 7/20\n",
            "2/2 [==============================] - 0s 5ms/step - loss: 0.0913\n",
            "Epoch 8/20\n",
            "2/2 [==============================] - 0s 4ms/step - loss: 0.0320\n",
            "Epoch 9/20\n",
            "2/2 [==============================] - 0s 6ms/step - loss: 0.0242\n",
            "Epoch 10/20\n",
            "2/2 [==============================] - 0s 4ms/step - loss: 0.0189\n",
            "Epoch 11/20\n",
            "2/2 [==============================] - 0s 5ms/step - loss: 0.0142\n",
            "Epoch 12/20\n",
            "2/2 [==============================] - 0s 6ms/step - loss: 0.0102\n",
            "Epoch 13/20\n",
            "2/2 [==============================] - 0s 7ms/step - loss: 0.0066\n",
            "Epoch 14/20\n",
            "2/2 [==============================] - 0s 5ms/step - loss: 0.0056\n",
            "Epoch 15/20\n",
            "2/2 [==============================] - 0s 3ms/step - loss: 0.0057\n",
            "Epoch 16/20\n",
            "2/2 [==============================] - 0s 9ms/step - loss: 0.0053\n",
            "Epoch 17/20\n",
            "2/2 [==============================] - 0s 6ms/step - loss: 0.0050\n",
            "Epoch 18/20\n",
            "2/2 [==============================] - 0s 4ms/step - loss: 0.0048\n",
            "Epoch 19/20\n",
            "2/2 [==============================] - 0s 10ms/step - loss: 0.0049\n",
            "Epoch 20/20\n",
            "2/2 [==============================] - 0s 5ms/step - loss: 0.0047\n"
          ]
        }
      ]
    },
    {
      "cell_type": "code",
      "metadata": {
        "colab": {
          "base_uri": "https://localhost:8080/"
        },
        "id": "HYt5eaO5RpQT",
        "outputId": "19ecc998-6889-415f-cc80-65f0c84bc651"
      },
      "source": [
        "(X_train_full, y_train_full), (X_test, y_test) = keras.datasets.fashion_mnist.load_data()\n",
        "X_train_full = X_train_full.astype(np.float32) / 255\n",
        "X_test = X_test.astype(np.float32) / 255\n",
        "X_train, X_valid = X_train_full[:-5000], X_train_full[-5000:]\n",
        "y_train, y_valid = y_train_full[:-5000], y_train_full[-5000:]\n",
        "\n",
        "tf.random.set_seed(42)\n",
        "np.random.seed(42)\n",
        "\n",
        "def rounded_accuracy(y_true, y_pred):\n",
        "    return keras.metrics.binary_accuracy(tf.round(y_true), tf.round(y_pred))\n",
        "\n",
        "stacked_encoder = keras.models.Sequential([\n",
        "    keras.layers.Flatten(input_shape=[28, 28]),\n",
        "    keras.layers.Dense(100, activation=\"selu\"),\n",
        "    keras.layers.Dense(30, activation=\"selu\"),\n",
        "])\n",
        "stacked_decoder = keras.models.Sequential([\n",
        "    keras.layers.Dense(100, activation=\"selu\", input_shape=[30]),\n",
        "    keras.layers.Dense(28 * 28, activation=\"sigmoid\"),\n",
        "    keras.layers.Reshape([28, 28])\n",
        "])\n",
        "stacked_ae = keras.models.Sequential([stacked_encoder, stacked_decoder])\n",
        "stacked_ae.compile(loss=\"binary_crossentropy\",\n",
        "                   optimizer=keras.optimizers.SGD(learning_rate=1.5), metrics=[rounded_accuracy])\n",
        "history = stacked_ae.fit(X_train, X_train, epochs=20,\n",
        "                         validation_data=(X_valid, X_valid))"
      ],
      "execution_count": 5,
      "outputs": [
        {
          "output_type": "stream",
          "name": "stdout",
          "text": [
            "Downloading data from https://storage.googleapis.com/tensorflow/tf-keras-datasets/train-labels-idx1-ubyte.gz\n",
            "32768/29515 [=================================] - 0s 0us/step\n",
            "40960/29515 [=========================================] - 0s 0us/step\n",
            "Downloading data from https://storage.googleapis.com/tensorflow/tf-keras-datasets/train-images-idx3-ubyte.gz\n",
            "26427392/26421880 [==============================] - 0s 0us/step\n",
            "26435584/26421880 [==============================] - 0s 0us/step\n",
            "Downloading data from https://storage.googleapis.com/tensorflow/tf-keras-datasets/t10k-labels-idx1-ubyte.gz\n",
            "16384/5148 [===============================================================================================] - 0s 0us/step\n",
            "Downloading data from https://storage.googleapis.com/tensorflow/tf-keras-datasets/t10k-images-idx3-ubyte.gz\n",
            "4423680/4422102 [==============================] - 0s 0us/step\n",
            "4431872/4422102 [==============================] - 0s 0us/step\n",
            "Epoch 1/20\n",
            "1719/1719 [==============================] - 9s 5ms/step - loss: 0.3381 - rounded_accuracy: 0.8870 - val_loss: 0.3165 - val_rounded_accuracy: 0.9004\n",
            "Epoch 2/20\n",
            "1719/1719 [==============================] - 8s 4ms/step - loss: 0.3056 - rounded_accuracy: 0.9152 - val_loss: 0.3021 - val_rounded_accuracy: 0.9201\n",
            "Epoch 3/20\n",
            "1719/1719 [==============================] - 8s 4ms/step - loss: 0.2986 - rounded_accuracy: 0.9215 - val_loss: 0.2985 - val_rounded_accuracy: 0.9199\n",
            "Epoch 4/20\n",
            "1719/1719 [==============================] - 8s 5ms/step - loss: 0.2948 - rounded_accuracy: 0.9249 - val_loss: 0.2937 - val_rounded_accuracy: 0.9285\n",
            "Epoch 5/20\n",
            "1719/1719 [==============================] - 8s 5ms/step - loss: 0.2923 - rounded_accuracy: 0.9272 - val_loss: 0.2919 - val_rounded_accuracy: 0.9284\n",
            "Epoch 6/20\n",
            "1719/1719 [==============================] - 8s 4ms/step - loss: 0.2904 - rounded_accuracy: 0.9289 - val_loss: 0.2915 - val_rounded_accuracy: 0.9305\n",
            "Epoch 7/20\n",
            "1719/1719 [==============================] - 8s 5ms/step - loss: 0.2890 - rounded_accuracy: 0.9301 - val_loss: 0.2907 - val_rounded_accuracy: 0.9280\n",
            "Epoch 8/20\n",
            "1719/1719 [==============================] - 8s 4ms/step - loss: 0.2877 - rounded_accuracy: 0.9314 - val_loss: 0.2943 - val_rounded_accuracy: 0.9299\n",
            "Epoch 9/20\n",
            "1719/1719 [==============================] - 8s 4ms/step - loss: 0.2869 - rounded_accuracy: 0.9321 - val_loss: 0.2907 - val_rounded_accuracy: 0.9256\n",
            "Epoch 10/20\n",
            "1719/1719 [==============================] - 8s 4ms/step - loss: 0.2859 - rounded_accuracy: 0.9330 - val_loss: 0.2878 - val_rounded_accuracy: 0.9309\n",
            "Epoch 11/20\n",
            "1719/1719 [==============================] - 8s 4ms/step - loss: 0.2851 - rounded_accuracy: 0.9336 - val_loss: 0.2866 - val_rounded_accuracy: 0.9348\n",
            "Epoch 12/20\n",
            "1719/1719 [==============================] - 8s 5ms/step - loss: 0.2845 - rounded_accuracy: 0.9341 - val_loss: 0.2856 - val_rounded_accuracy: 0.9355\n",
            "Epoch 13/20\n",
            "1719/1719 [==============================] - 8s 4ms/step - loss: 0.2840 - rounded_accuracy: 0.9346 - val_loss: 0.2847 - val_rounded_accuracy: 0.9354\n",
            "Epoch 14/20\n",
            "1719/1719 [==============================] - 8s 4ms/step - loss: 0.2835 - rounded_accuracy: 0.9349 - val_loss: 0.2844 - val_rounded_accuracy: 0.9365\n",
            "Epoch 15/20\n",
            "1719/1719 [==============================] - 8s 5ms/step - loss: 0.2830 - rounded_accuracy: 0.9355 - val_loss: 0.2841 - val_rounded_accuracy: 0.9353\n",
            "Epoch 16/20\n",
            "1719/1719 [==============================] - 8s 4ms/step - loss: 0.2826 - rounded_accuracy: 0.9358 - val_loss: 0.2845 - val_rounded_accuracy: 0.9356\n",
            "Epoch 17/20\n",
            "1719/1719 [==============================] - 8s 4ms/step - loss: 0.2823 - rounded_accuracy: 0.9360 - val_loss: 0.2835 - val_rounded_accuracy: 0.9363\n",
            "Epoch 18/20\n",
            "1719/1719 [==============================] - 8s 4ms/step - loss: 0.2819 - rounded_accuracy: 0.9363 - val_loss: 0.2831 - val_rounded_accuracy: 0.9363\n",
            "Epoch 19/20\n",
            "1719/1719 [==============================] - 8s 4ms/step - loss: 0.2816 - rounded_accuracy: 0.9365 - val_loss: 0.2827 - val_rounded_accuracy: 0.9375\n",
            "Epoch 20/20\n",
            "1719/1719 [==============================] - 8s 4ms/step - loss: 0.2813 - rounded_accuracy: 0.9368 - val_loss: 0.2840 - val_rounded_accuracy: 0.9368\n"
          ]
        }
      ]
    },
    {
      "cell_type": "code",
      "metadata": {
        "id": "Acik0aAoRpNo"
      },
      "source": [
        "def show_reconstructions(model, images=X_valid, n_images=5):\n",
        "    reconstructions = model.predict(images[:n_images])\n",
        "    fig = plt.figure(figsize=(n_images * 1.5, 3))\n",
        "    for image_index in range(n_images):\n",
        "        plt.subplot(2, n_images, 1 + image_index)\n",
        "        plot_image(images[image_index])\n",
        "        plt.subplot(2, n_images, 1 + n_images + image_index)\n",
        "        plot_image(reconstructions[image_index])"
      ],
      "execution_count": 6,
      "outputs": []
    },
    {
      "cell_type": "code",
      "metadata": {
        "colab": {
          "base_uri": "https://localhost:8080/",
          "height": 242
        },
        "id": "uf-nE8wGRpLL",
        "outputId": "617e57e7-8e03-40e6-e18e-a4ebb0c0f69d"
      },
      "source": [
        "show_reconstructions(stacked_ae)\n",
        "save_fig(\"reconstruction_plot\")"
      ],
      "execution_count": 7,
      "outputs": [
        {
          "output_type": "stream",
          "name": "stdout",
          "text": [
            "Saving figure reconstruction_plot\n"
          ]
        },
        {
          "output_type": "display_data",
          "data": {
            "image/png": "[encoded data removed]",
            "text/plain": [
              "<Figure size 540x216 with 10 Axes>"
            ]
          },
          "metadata": {
            "needs_background": "light"
          }
        }
      ]
    },
    {
      "cell_type": "markdown",
      "metadata": {
        "id": "7Fb2ahVxu4Sx"
      },
      "source": [
        "#합성곱 오토인코더"
      ]
    },
    {
      "cell_type": "code",
      "metadata": {
        "id": "ho175zKwRpI3"
      },
      "source": [
        "conv_encoder = keras.models.Sequential([\n",
        "    keras.layers.Reshape([28,28,1], input=[28,28]),\n",
        "    keras.layers.Conv2D(16, kernel_size=3, padding=\"same\", activation=\"selu\"),\n",
        "    keras.layers.MaxPool2D(pool_size=2),\n",
        "    keras.layers.Conv2D(32, kernel_size=3, padding=\"same\", activation=\"selu\"),\n",
        "    keras.layers.MaxPool2D(pool_size=2),\n",
        "    keras.layers.Conv2D(64, kernel_size=3, padding=\"same\", activation=\"selu\")\n",
        "    keras.layers.MaxPool2D(pool_size=2)\n",
        "])\n",
        "\n",
        "cov_decoder = keras.models.Sequential([\n",
        "                                       keras.layers.Conv2DTranspose(32, kernel_size=3, strides=2, padding=\"valid\", activation=\"selu\", input_shape=[3,3,64]),\n",
        "                                       keras.layers.Conv2DTranspose(16, kernel_size=3, strides=2, padding=\"same\", activation=\"selu\"),\n",
        "                                       keras.layers.Conv2DTranspose(1, kernel_Size=3, strides=2, padding=\"same\", activation=\"sigmoid\"),\n",
        "                                       keras.layers.Reshape([28,28])\n",
        "])\n",
        "\n",
        "conv_ae = keras.models.Sequential([conv_encoder, conv_decoder])\n"
      ],
      "execution_count": 7,
      "outputs": []
    },
    {
      "cell_type": "markdown",
      "metadata": {
        "id": "xLPGhMWcu67I"
      },
      "source": [
        "#순환 오토인코더"
      ]
    },
    {
      "cell_type": "code",
      "metadata": {
        "id": "3rnZeZFTRpGm"
      },
      "source": [
        "recurrent_encoder= keras.models.Sequential([\n",
        "                                            keras.layers.LSTM(100, return_sequences=True, input=[None, 28]),\n",
        "                                            keras.layers.LSTM(30)\n",
        "])\n",
        "\n",
        "recurrnet_decoder = keras.models.Sequential([\n",
        "                                             keras.layers.RepeateVector(28, input_shape=[30]),\n",
        "                                             keras.layers.LSTM(100, return_sequences=True),\n",
        "                                             keras.layers.TimeDistributed(keras.layers.Dense(28, activation=\"sigmoid\"))\n",
        "])\n",
        "\n",
        "recurrent_ae = keras.models.Sequential([recurrent_encoder, recurrent_decoder])"
      ],
      "execution_count": 7,
      "outputs": []
    },
    {
      "cell_type": "markdown",
      "metadata": {
        "id": "o6JcAwJIvBWl"
      },
      "source": [
        "#잡음 제거 오토인코더"
      ]
    },
    {
      "cell_type": "code",
      "metadata": {
        "id": "px0CmuIfRpEV"
      },
      "source": [
        "dropout_encoder = keras.models.Sequential([\n",
        "                                           keras.layers.Flatten(input_shape=[28,28]),\n",
        "                                           keras.layers.Dropout(0.5),\n",
        "                                           keras.layers.Dense(100, activation=\"selu\"),\n",
        "                                           keras.layers.Dense(30, activation=\"selu\")\n",
        "])\n",
        "\n",
        "dropout_decoder = keras.models.Sequential([\n",
        "                                           keras.layers.Dense(100, activation=\"selu\", input_shape=[30]),\n",
        "                                           keras.layers.Dense(28*28, activation=\"sigmoid\"),\n",
        "                                           keras.layers.Reshape([28,28])\n",
        "])\n",
        "\n",
        "dropout_ae = keras.models.Sequential([dropout_encoder, dropout_decoder])\n"
      ],
      "execution_count": 7,
      "outputs": []
    },
    {
      "cell_type": "markdown",
      "metadata": {
        "id": "4JmcYkJzvzWq"
      },
      "source": [
        "#생성적 적대 신경망"
      ]
    },
    {
      "cell_type": "code",
      "metadata": {
        "id": "mPoYwzX0RpB2"
      },
      "source": [
        "codings_size = 30\n",
        "generator = keras.models.Sequential([\n",
        "                                     keras.layers.Dense(100, activation=\"selu\", input_shape = [codings_size]),\n",
        "                                     keras.layers.Dense(150, activation=\"selu\"),\n",
        "                                     keras.layers.Dense(28*28, activation=\"sigmoid\"),\n",
        "                                     keras.layers.Reshape([28,28])                                   \n",
        "])\n",
        "\n",
        "discriminator = keras.models.Sequential([\n",
        "                                         keras.layers.Dense(150, activation=\"selu\"),\n",
        "                                         keras.layers.Dense(100, activation=\"selu\"),\n",
        "                                         keras.layers.Dense(1, activation=\"sigmoid\")\n",
        "])\n",
        "\n",
        "gan = keras.models.Sequential([generator, discriminator])\n",
        "\n",
        "discriminator.compile(loss=\"binary_crossentropy\", optimizer = \"rmsprop\")\n",
        "discriminator.transable = False\n",
        "gan.compile(loss=\"binary_crossentropy\", optimizer = \"rmsprop\")\n"
      ],
      "execution_count": 7,
      "outputs": []
    },
    {
      "cell_type": "code",
      "metadata": {
        "id": "t4n_C4UeRo_Y"
      },
      "source": [
        ""
      ],
      "execution_count": 7,
      "outputs": []
    },
    {
      "cell_type": "code",
      "metadata": {
        "id": "EThd-REoRo9H"
      },
      "source": [
        ""
      ],
      "execution_count": 7,
      "outputs": []
    }
  ]
}