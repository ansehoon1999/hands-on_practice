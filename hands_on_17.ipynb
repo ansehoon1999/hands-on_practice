{
  "nbformat": 4,
  "nbformat_minor": 0,
  "metadata": {
    "colab": {
      "name": "hands-on-17.ipynb",
      "provenance": [],
      "toc_visible": true,
      "authorship_tag": "ABX9TyOPayXPJtKjO2fL7Br5K9ch",
      "include_colab_link": true
    },
    "kernelspec": {
      "name": "python3",
      "display_name": "Python 3"
    },
    "language_info": {
      "name": "python"
    }
  },
  "cells": [
    {
      "cell_type": "markdown",
      "metadata": {
        "id": "view-in-github",
        "colab_type": "text"
      },
      "source": [
        "<a href=\"https://colab.research.google.com/github/ansehoon1999/hands-on_practice/blob/main/hands_on_17.ipynb\" target=\"_parent\"><img src=\"https://colab.research.google.com/assets/colab-badge.svg\" alt=\"Open In Colab\"/></a>"
      ]
    },
    {
      "cell_type": "markdown",
      "metadata": {
        "id": "ZoH4mwGB_S3f"
      },
      "source": [
        "# 오토인코더"
      ]
    },
    {
      "cell_type": "markdown",
      "metadata": {
        "id": "peQhmo89_XW8"
      },
      "source": [
        "https://yjs-program.tistory.com/163"
      ]
    },
    {
      "cell_type": "code",
      "metadata": {
        "id": "rn-T4CK4_FYw"
      },
      "source": [
        ""
      ],
      "execution_count": null,
      "outputs": []
    },
    {
      "cell_type": "markdown",
      "metadata": {
        "id": "kwy2RPHe_5mq"
      },
      "source": [
        "# GAN"
      ]
    },
    {
      "cell_type": "markdown",
      "metadata": {
        "id": "mlmEOys-AK5F"
      },
      "source": [
        "http://intelligence.korea.ac.kr/members/wschoi/seminar/tutorial/mnist/pytorch/gan/GAN-%ED%8A%9C%ED%86%A0%EB%A6%AC%EC%96%BC/"
      ]
    },
    {
      "cell_type": "markdown",
      "metadata": {
        "id": "-auGhXyJ_7s5"
      },
      "source": [
        ""
      ]
    }
  ]
}