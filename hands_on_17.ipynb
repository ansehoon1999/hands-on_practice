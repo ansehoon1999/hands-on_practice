{
  "nbformat": 4,
  "nbformat_minor": 0,
  "metadata": {
    "colab": {
      "name": "hands-on-17.ipynb",
      "provenance": [],
      "authorship_tag": "ABX9TyO+RtiKqI/66wEE7ZsnS3ZR",
      "include_colab_link": true
    },
    "kernelspec": {
      "name": "python3",
      "display_name": "Python 3"
    },
    "language_info": {
      "name": "python"
    },
    "accelerator": "GPU",
    "widgets": {
      "application/vnd.jupyter.widget-state+json": {
        "18e44e4b5ea84d2ab0cd3cc3027bf73c": {
          "model_module": "@jupyter-widgets/controls",
          "model_name": "HBoxModel",
          "state": {
            "_view_name": "HBoxView",
            "_dom_classes": [],
            "_model_name": "HBoxModel",
            "_view_module": "@jupyter-widgets/controls",
            "_model_module_version": "1.5.0",
            "_view_count": null,
            "_view_module_version": "1.5.0",
            "box_style": "",
            "layout": "IPY_MODEL_eae19cf98e1145cf97ec2e5f70bb5f3a",
            "_model_module": "@jupyter-widgets/controls",
            "children": [
              "IPY_MODEL_4cdd59d8b12f466db7192554dcd9e32f",
              "IPY_MODEL_4f46e870e7074e50800b6a5d81f9a925"
            ]
          }
        },
        "eae19cf98e1145cf97ec2e5f70bb5f3a": {
          "model_module": "@jupyter-widgets/base",
          "model_name": "LayoutModel",
          "state": {
            "_view_name": "LayoutView",
            "grid_template_rows": null,
            "right": null,
            "justify_content": null,
            "_view_module": "@jupyter-widgets/base",
            "overflow": null,
            "_model_module_version": "1.2.0",
            "_view_count": null,
            "flex_flow": null,
            "width": null,
            "min_width": null,
            "border": null,
            "align_items": null,
            "bottom": null,
            "_model_module": "@jupyter-widgets/base",
            "top": null,
            "grid_column": null,
            "overflow_y": null,
            "overflow_x": null,
            "grid_auto_flow": null,
            "grid_area": null,
            "grid_template_columns": null,
            "flex": null,
            "_model_name": "LayoutModel",
            "justify_items": null,
            "grid_row": null,
            "max_height": null,
            "align_content": null,
            "visibility": null,
            "align_self": null,
            "height": null,
            "min_height": null,
            "padding": null,
            "grid_auto_rows": null,
            "grid_gap": null,
            "max_width": null,
            "order": null,
            "_view_module_version": "1.2.0",
            "grid_template_areas": null,
            "object_position": null,
            "object_fit": null,
            "grid_auto_columns": null,
            "margin": null,
            "display": null,
            "left": null
          }
        },
        "4cdd59d8b12f466db7192554dcd9e32f": {
          "model_module": "@jupyter-widgets/controls",
          "model_name": "FloatProgressModel",
          "state": {
            "_view_name": "ProgressView",
            "style": "IPY_MODEL_6d3fb9a5f6674b53951dd7547c174a5d",
            "_dom_classes": [],
            "description": "",
            "_model_name": "FloatProgressModel",
            "bar_style": "success",
            "max": 26421880,
            "_view_module": "@jupyter-widgets/controls",
            "_model_module_version": "1.5.0",
            "value": 26421880,
            "_view_count": null,
            "_view_module_version": "1.5.0",
            "orientation": "horizontal",
            "min": 0,
            "description_tooltip": null,
            "_model_module": "@jupyter-widgets/controls",
            "layout": "IPY_MODEL_37de179ae44147f3a41ae87503e693a9"
          }
        },
        "4f46e870e7074e50800b6a5d81f9a925": {
          "model_module": "@jupyter-widgets/controls",
          "model_name": "HTMLModel",
          "state": {
            "_view_name": "HTMLView",
            "style": "IPY_MODEL_48c0cad6636840059f819e40b05e8a74",
            "_dom_classes": [],
            "description": "",
            "_model_name": "HTMLModel",
            "placeholder": "​",
            "_view_module": "@jupyter-widgets/controls",
            "_model_module_version": "1.5.0",
            "value": " 26422272/? [00:03&lt;00:00, 7474023.47it/s]",
            "_view_count": null,
            "_view_module_version": "1.5.0",
            "description_tooltip": null,
            "_model_module": "@jupyter-widgets/controls",
            "layout": "IPY_MODEL_77e71e5738f849ce9355009311ccbb7e"
          }
        },
        "6d3fb9a5f6674b53951dd7547c174a5d": {
          "model_module": "@jupyter-widgets/controls",
          "model_name": "ProgressStyleModel",
          "state": {
            "_view_name": "StyleView",
            "_model_name": "ProgressStyleModel",
            "description_width": "initial",
            "_view_module": "@jupyter-widgets/base",
            "_model_module_version": "1.5.0",
            "_view_count": null,
            "_view_module_version": "1.2.0",
            "bar_color": null,
            "_model_module": "@jupyter-widgets/controls"
          }
        },
        "37de179ae44147f3a41ae87503e693a9": {
          "model_module": "@jupyter-widgets/base",
          "model_name": "LayoutModel",
          "state": {
            "_view_name": "LayoutView",
            "grid_template_rows": null,
            "right": null,
            "justify_content": null,
            "_view_module": "@jupyter-widgets/base",
            "overflow": null,
            "_model_module_version": "1.2.0",
            "_view_count": null,
            "flex_flow": null,
            "width": null,
            "min_width": null,
            "border": null,
            "align_items": null,
            "bottom": null,
            "_model_module": "@jupyter-widgets/base",
            "top": null,
            "grid_column": null,
            "overflow_y": null,
            "overflow_x": null,
            "grid_auto_flow": null,
            "grid_area": null,
            "grid_template_columns": null,
            "flex": null,
            "_model_name": "LayoutModel",
            "justify_items": null,
            "grid_row": null,
            "max_height": null,
            "align_content": null,
            "visibility": null,
            "align_self": null,
            "height": null,
            "min_height": null,
            "padding": null,
            "grid_auto_rows": null,
            "grid_gap": null,
            "max_width": null,
            "order": null,
            "_view_module_version": "1.2.0",
            "grid_template_areas": null,
            "object_position": null,
            "object_fit": null,
            "grid_auto_columns": null,
            "margin": null,
            "display": null,
            "left": null
          }
        },
        "48c0cad6636840059f819e40b05e8a74": {
          "model_module": "@jupyter-widgets/controls",
          "model_name": "DescriptionStyleModel",
          "state": {
            "_view_name": "StyleView",
            "_model_name": "DescriptionStyleModel",
            "description_width": "",
            "_view_module": "@jupyter-widgets/base",
            "_model_module_version": "1.5.0",
            "_view_count": null,
            "_view_module_version": "1.2.0",
            "_model_module": "@jupyter-widgets/controls"
          }
        },
        "77e71e5738f849ce9355009311ccbb7e": {
          "model_module": "@jupyter-widgets/base",
          "model_name": "LayoutModel",
          "state": {
            "_view_name": "LayoutView",
            "grid_template_rows": null,
            "right": null,
            "justify_content": null,
            "_view_module": "@jupyter-widgets/base",
            "overflow": null,
            "_model_module_version": "1.2.0",
            "_view_count": null,
            "flex_flow": null,
            "width": null,
            "min_width": null,
            "border": null,
            "align_items": null,
            "bottom": null,
            "_model_module": "@jupyter-widgets/base",
            "top": null,
            "grid_column": null,
            "overflow_y": null,
            "overflow_x": null,
            "grid_auto_flow": null,
            "grid_area": null,
            "grid_template_columns": null,
            "flex": null,
            "_model_name": "LayoutModel",
            "justify_items": null,
            "grid_row": null,
            "max_height": null,
            "align_content": null,
            "visibility": null,
            "align_self": null,
            "height": null,
            "min_height": null,
            "padding": null,
            "grid_auto_rows": null,
            "grid_gap": null,
            "max_width": null,
            "order": null,
            "_view_module_version": "1.2.0",
            "grid_template_areas": null,
            "object_position": null,
            "object_fit": null,
            "grid_auto_columns": null,
            "margin": null,
            "display": null,
            "left": null
          }
        },
        "67cb980d6910457f874fa1d8d630fd6b": {
          "model_module": "@jupyter-widgets/controls",
          "model_name": "HBoxModel",
          "state": {
            "_view_name": "HBoxView",
            "_dom_classes": [],
            "_model_name": "HBoxModel",
            "_view_module": "@jupyter-widgets/controls",
            "_model_module_version": "1.5.0",
            "_view_count": null,
            "_view_module_version": "1.5.0",
            "box_style": "",
            "layout": "IPY_MODEL_cf92f87c18b149138b48d4b5bc3f1de7",
            "_model_module": "@jupyter-widgets/controls",
            "children": [
              "IPY_MODEL_2928c66e4bfb43b69f3d1e355a35da13",
              "IPY_MODEL_ac9fd6d73af942c4b45ab52c44f3ecc1"
            ]
          }
        },
        "cf92f87c18b149138b48d4b5bc3f1de7": {
          "model_module": "@jupyter-widgets/base",
          "model_name": "LayoutModel",
          "state": {
            "_view_name": "LayoutView",
            "grid_template_rows": null,
            "right": null,
            "justify_content": null,
            "_view_module": "@jupyter-widgets/base",
            "overflow": null,
            "_model_module_version": "1.2.0",
            "_view_count": null,
            "flex_flow": null,
            "width": null,
            "min_width": null,
            "border": null,
            "align_items": null,
            "bottom": null,
            "_model_module": "@jupyter-widgets/base",
            "top": null,
            "grid_column": null,
            "overflow_y": null,
            "overflow_x": null,
            "grid_auto_flow": null,
            "grid_area": null,
            "grid_template_columns": null,
            "flex": null,
            "_model_name": "LayoutModel",
            "justify_items": null,
            "grid_row": null,
            "max_height": null,
            "align_content": null,
            "visibility": null,
            "align_self": null,
            "height": null,
            "min_height": null,
            "padding": null,
            "grid_auto_rows": null,
            "grid_gap": null,
            "max_width": null,
            "order": null,
            "_view_module_version": "1.2.0",
            "grid_template_areas": null,
            "object_position": null,
            "object_fit": null,
            "grid_auto_columns": null,
            "margin": null,
            "display": null,
            "left": null
          }
        },
        "2928c66e4bfb43b69f3d1e355a35da13": {
          "model_module": "@jupyter-widgets/controls",
          "model_name": "FloatProgressModel",
          "state": {
            "_view_name": "ProgressView",
            "style": "IPY_MODEL_9b5a7a5d02c74603bcc4e77da9bb88ea",
            "_dom_classes": [],
            "description": "",
            "_model_name": "FloatProgressModel",
            "bar_style": "success",
            "max": 29515,
            "_view_module": "@jupyter-widgets/controls",
            "_model_module_version": "1.5.0",
            "value": 29515,
            "_view_count": null,
            "_view_module_version": "1.5.0",
            "orientation": "horizontal",
            "min": 0,
            "description_tooltip": null,
            "_model_module": "@jupyter-widgets/controls",
            "layout": "IPY_MODEL_60f76d5652b0452a841ae041b2c1b98d"
          }
        },
        "ac9fd6d73af942c4b45ab52c44f3ecc1": {
          "model_module": "@jupyter-widgets/controls",
          "model_name": "HTMLModel",
          "state": {
            "_view_name": "HTMLView",
            "style": "IPY_MODEL_27c6b7d7a2d34a79aa2d0c568700cb6b",
            "_dom_classes": [],
            "description": "",
            "_model_name": "HTMLModel",
            "placeholder": "​",
            "_view_module": "@jupyter-widgets/controls",
            "_model_module_version": "1.5.0",
            "value": " 29696/? [00:00&lt;00:00, 45152.87it/s]",
            "_view_count": null,
            "_view_module_version": "1.5.0",
            "description_tooltip": null,
            "_model_module": "@jupyter-widgets/controls",
            "layout": "IPY_MODEL_4b11521bc43e4c7594ae13fe0d27c13a"
          }
        },
        "9b5a7a5d02c74603bcc4e77da9bb88ea": {
          "model_module": "@jupyter-widgets/controls",
          "model_name": "ProgressStyleModel",
          "state": {
            "_view_name": "StyleView",
            "_model_name": "ProgressStyleModel",
            "description_width": "initial",
            "_view_module": "@jupyter-widgets/base",
            "_model_module_version": "1.5.0",
            "_view_count": null,
            "_view_module_version": "1.2.0",
            "bar_color": null,
            "_model_module": "@jupyter-widgets/controls"
          }
        },
        "60f76d5652b0452a841ae041b2c1b98d": {
          "model_module": "@jupyter-widgets/base",
          "model_name": "LayoutModel",
          "state": {
            "_view_name": "LayoutView",
            "grid_template_rows": null,
            "right": null,
            "justify_content": null,
            "_view_module": "@jupyter-widgets/base",
            "overflow": null,
            "_model_module_version": "1.2.0",
            "_view_count": null,
            "flex_flow": null,
            "width": null,
            "min_width": null,
            "border": null,
            "align_items": null,
            "bottom": null,
            "_model_module": "@jupyter-widgets/base",
            "top": null,
            "grid_column": null,
            "overflow_y": null,
            "overflow_x": null,
            "grid_auto_flow": null,
            "grid_area": null,
            "grid_template_columns": null,
            "flex": null,
            "_model_name": "LayoutModel",
            "justify_items": null,
            "grid_row": null,
            "max_height": null,
            "align_content": null,
            "visibility": null,
            "align_self": null,
            "height": null,
            "min_height": null,
            "padding": null,
            "grid_auto_rows": null,
            "grid_gap": null,
            "max_width": null,
            "order": null,
            "_view_module_version": "1.2.0",
            "grid_template_areas": null,
            "object_position": null,
            "object_fit": null,
            "grid_auto_columns": null,
            "margin": null,
            "display": null,
            "left": null
          }
        },
        "27c6b7d7a2d34a79aa2d0c568700cb6b": {
          "model_module": "@jupyter-widgets/controls",
          "model_name": "DescriptionStyleModel",
          "state": {
            "_view_name": "StyleView",
            "_model_name": "DescriptionStyleModel",
            "description_width": "",
            "_view_module": "@jupyter-widgets/base",
            "_model_module_version": "1.5.0",
            "_view_count": null,
            "_view_module_version": "1.2.0",
            "_model_module": "@jupyter-widgets/controls"
          }
        },
        "4b11521bc43e4c7594ae13fe0d27c13a": {
          "model_module": "@jupyter-widgets/base",
          "model_name": "LayoutModel",
          "state": {
            "_view_name": "LayoutView",
            "grid_template_rows": null,
            "right": null,
            "justify_content": null,
            "_view_module": "@jupyter-widgets/base",
            "overflow": null,
            "_model_module_version": "1.2.0",
            "_view_count": null,
            "flex_flow": null,
            "width": null,
            "min_width": null,
            "border": null,
            "align_items": null,
            "bottom": null,
            "_model_module": "@jupyter-widgets/base",
            "top": null,
            "grid_column": null,
            "overflow_y": null,
            "overflow_x": null,
            "grid_auto_flow": null,
            "grid_area": null,
            "grid_template_columns": null,
            "flex": null,
            "_model_name": "LayoutModel",
            "justify_items": null,
            "grid_row": null,
            "max_height": null,
            "align_content": null,
            "visibility": null,
            "align_self": null,
            "height": null,
            "min_height": null,
            "padding": null,
            "grid_auto_rows": null,
            "grid_gap": null,
            "max_width": null,
            "order": null,
            "_view_module_version": "1.2.0",
            "grid_template_areas": null,
            "object_position": null,
            "object_fit": null,
            "grid_auto_columns": null,
            "margin": null,
            "display": null,
            "left": null
          }
        },
        "93303c65766b4716ae32cdd0f7919ea0": {
          "model_module": "@jupyter-widgets/controls",
          "model_name": "HBoxModel",
          "state": {
            "_view_name": "HBoxView",
            "_dom_classes": [],
            "_model_name": "HBoxModel",
            "_view_module": "@jupyter-widgets/controls",
            "_model_module_version": "1.5.0",
            "_view_count": null,
            "_view_module_version": "1.5.0",
            "box_style": "",
            "layout": "IPY_MODEL_8f8249f064514fb9a259c49a81ec6f86",
            "_model_module": "@jupyter-widgets/controls",
            "children": [
              "IPY_MODEL_3f6030b44f244418b469ae67f571bdee",
              "IPY_MODEL_d5ce13bfd0a647688f707f367a029bbd"
            ]
          }
        },
        "8f8249f064514fb9a259c49a81ec6f86": {
          "model_module": "@jupyter-widgets/base",
          "model_name": "LayoutModel",
          "state": {
            "_view_name": "LayoutView",
            "grid_template_rows": null,
            "right": null,
            "justify_content": null,
            "_view_module": "@jupyter-widgets/base",
            "overflow": null,
            "_model_module_version": "1.2.0",
            "_view_count": null,
            "flex_flow": null,
            "width": null,
            "min_width": null,
            "border": null,
            "align_items": null,
            "bottom": null,
            "_model_module": "@jupyter-widgets/base",
            "top": null,
            "grid_column": null,
            "overflow_y": null,
            "overflow_x": null,
            "grid_auto_flow": null,
            "grid_area": null,
            "grid_template_columns": null,
            "flex": null,
            "_model_name": "LayoutModel",
            "justify_items": null,
            "grid_row": null,
            "max_height": null,
            "align_content": null,
            "visibility": null,
            "align_self": null,
            "height": null,
            "min_height": null,
            "padding": null,
            "grid_auto_rows": null,
            "grid_gap": null,
            "max_width": null,
            "order": null,
            "_view_module_version": "1.2.0",
            "grid_template_areas": null,
            "object_position": null,
            "object_fit": null,
            "grid_auto_columns": null,
            "margin": null,
            "display": null,
            "left": null
          }
        },
        "3f6030b44f244418b469ae67f571bdee": {
          "model_module": "@jupyter-widgets/controls",
          "model_name": "FloatProgressModel",
          "state": {
            "_view_name": "ProgressView",
            "style": "IPY_MODEL_0ae7628670734f058d9d5316d39ba6e9",
            "_dom_classes": [],
            "description": "",
            "_model_name": "FloatProgressModel",
            "bar_style": "success",
            "max": 4422102,
            "_view_module": "@jupyter-widgets/controls",
            "_model_module_version": "1.5.0",
            "value": 4422102,
            "_view_count": null,
            "_view_module_version": "1.5.0",
            "orientation": "horizontal",
            "min": 0,
            "description_tooltip": null,
            "_model_module": "@jupyter-widgets/controls",
            "layout": "IPY_MODEL_8a0ee1d4925443f5b6be18d2f0246454"
          }
        },
        "d5ce13bfd0a647688f707f367a029bbd": {
          "model_module": "@jupyter-widgets/controls",
          "model_name": "HTMLModel",
          "state": {
            "_view_name": "HTMLView",
            "style": "IPY_MODEL_9cde07116baa497eb5cbe554dfc36696",
            "_dom_classes": [],
            "description": "",
            "_model_name": "HTMLModel",
            "placeholder": "​",
            "_view_module": "@jupyter-widgets/controls",
            "_model_module_version": "1.5.0",
            "value": " 4422656/? [01:31&lt;00:00, 48175.77it/s]",
            "_view_count": null,
            "_view_module_version": "1.5.0",
            "description_tooltip": null,
            "_model_module": "@jupyter-widgets/controls",
            "layout": "IPY_MODEL_e1598e5aeeff4642abe5ed5620fd06f0"
          }
        },
        "0ae7628670734f058d9d5316d39ba6e9": {
          "model_module": "@jupyter-widgets/controls",
          "model_name": "ProgressStyleModel",
          "state": {
            "_view_name": "StyleView",
            "_model_name": "ProgressStyleModel",
            "description_width": "initial",
            "_view_module": "@jupyter-widgets/base",
            "_model_module_version": "1.5.0",
            "_view_count": null,
            "_view_module_version": "1.2.0",
            "bar_color": null,
            "_model_module": "@jupyter-widgets/controls"
          }
        },
        "8a0ee1d4925443f5b6be18d2f0246454": {
          "model_module": "@jupyter-widgets/base",
          "model_name": "LayoutModel",
          "state": {
            "_view_name": "LayoutView",
            "grid_template_rows": null,
            "right": null,
            "justify_content": null,
            "_view_module": "@jupyter-widgets/base",
            "overflow": null,
            "_model_module_version": "1.2.0",
            "_view_count": null,
            "flex_flow": null,
            "width": null,
            "min_width": null,
            "border": null,
            "align_items": null,
            "bottom": null,
            "_model_module": "@jupyter-widgets/base",
            "top": null,
            "grid_column": null,
            "overflow_y": null,
            "overflow_x": null,
            "grid_auto_flow": null,
            "grid_area": null,
            "grid_template_columns": null,
            "flex": null,
            "_model_name": "LayoutModel",
            "justify_items": null,
            "grid_row": null,
            "max_height": null,
            "align_content": null,
            "visibility": null,
            "align_self": null,
            "height": null,
            "min_height": null,
            "padding": null,
            "grid_auto_rows": null,
            "grid_gap": null,
            "max_width": null,
            "order": null,
            "_view_module_version": "1.2.0",
            "grid_template_areas": null,
            "object_position": null,
            "object_fit": null,
            "grid_auto_columns": null,
            "margin": null,
            "display": null,
            "left": null
          }
        },
        "9cde07116baa497eb5cbe554dfc36696": {
          "model_module": "@jupyter-widgets/controls",
          "model_name": "DescriptionStyleModel",
          "state": {
            "_view_name": "StyleView",
            "_model_name": "DescriptionStyleModel",
            "description_width": "",
            "_view_module": "@jupyter-widgets/base",
            "_model_module_version": "1.5.0",
            "_view_count": null,
            "_view_module_version": "1.2.0",
            "_model_module": "@jupyter-widgets/controls"
          }
        },
        "e1598e5aeeff4642abe5ed5620fd06f0": {
          "model_module": "@jupyter-widgets/base",
          "model_name": "LayoutModel",
          "state": {
            "_view_name": "LayoutView",
            "grid_template_rows": null,
            "right": null,
            "justify_content": null,
            "_view_module": "@jupyter-widgets/base",
            "overflow": null,
            "_model_module_version": "1.2.0",
            "_view_count": null,
            "flex_flow": null,
            "width": null,
            "min_width": null,
            "border": null,
            "align_items": null,
            "bottom": null,
            "_model_module": "@jupyter-widgets/base",
            "top": null,
            "grid_column": null,
            "overflow_y": null,
            "overflow_x": null,
            "grid_auto_flow": null,
            "grid_area": null,
            "grid_template_columns": null,
            "flex": null,
            "_model_name": "LayoutModel",
            "justify_items": null,
            "grid_row": null,
            "max_height": null,
            "align_content": null,
            "visibility": null,
            "align_self": null,
            "height": null,
            "min_height": null,
            "padding": null,
            "grid_auto_rows": null,
            "grid_gap": null,
            "max_width": null,
            "order": null,
            "_view_module_version": "1.2.0",
            "grid_template_areas": null,
            "object_position": null,
            "object_fit": null,
            "grid_auto_columns": null,
            "margin": null,
            "display": null,
            "left": null
          }
        },
        "8d8cfce9b4504de5990728380dd61c7b": {
          "model_module": "@jupyter-widgets/controls",
          "model_name": "HBoxModel",
          "state": {
            "_view_name": "HBoxView",
            "_dom_classes": [],
            "_model_name": "HBoxModel",
            "_view_module": "@jupyter-widgets/controls",
            "_model_module_version": "1.5.0",
            "_view_count": null,
            "_view_module_version": "1.5.0",
            "box_style": "",
            "layout": "IPY_MODEL_644326a302254b04b7ee812712437573",
            "_model_module": "@jupyter-widgets/controls",
            "children": [
              "IPY_MODEL_901df5bbbb5141d08b4d3f6c85be60bd",
              "IPY_MODEL_21df28b5eac448479de7586dac6f2757"
            ]
          }
        },
        "644326a302254b04b7ee812712437573": {
          "model_module": "@jupyter-widgets/base",
          "model_name": "LayoutModel",
          "state": {
            "_view_name": "LayoutView",
            "grid_template_rows": null,
            "right": null,
            "justify_content": null,
            "_view_module": "@jupyter-widgets/base",
            "overflow": null,
            "_model_module_version": "1.2.0",
            "_view_count": null,
            "flex_flow": null,
            "width": null,
            "min_width": null,
            "border": null,
            "align_items": null,
            "bottom": null,
            "_model_module": "@jupyter-widgets/base",
            "top": null,
            "grid_column": null,
            "overflow_y": null,
            "overflow_x": null,
            "grid_auto_flow": null,
            "grid_area": null,
            "grid_template_columns": null,
            "flex": null,
            "_model_name": "LayoutModel",
            "justify_items": null,
            "grid_row": null,
            "max_height": null,
            "align_content": null,
            "visibility": null,
            "align_self": null,
            "height": null,
            "min_height": null,
            "padding": null,
            "grid_auto_rows": null,
            "grid_gap": null,
            "max_width": null,
            "order": null,
            "_view_module_version": "1.2.0",
            "grid_template_areas": null,
            "object_position": null,
            "object_fit": null,
            "grid_auto_columns": null,
            "margin": null,
            "display": null,
            "left": null
          }
        },
        "901df5bbbb5141d08b4d3f6c85be60bd": {
          "model_module": "@jupyter-widgets/controls",
          "model_name": "FloatProgressModel",
          "state": {
            "_view_name": "ProgressView",
            "style": "IPY_MODEL_9aae7737491049d2ba61da1418c9ec7b",
            "_dom_classes": [],
            "description": "",
            "_model_name": "FloatProgressModel",
            "bar_style": "success",
            "max": 5148,
            "_view_module": "@jupyter-widgets/controls",
            "_model_module_version": "1.5.0",
            "value": 5148,
            "_view_count": null,
            "_view_module_version": "1.5.0",
            "orientation": "horizontal",
            "min": 0,
            "description_tooltip": null,
            "_model_module": "@jupyter-widgets/controls",
            "layout": "IPY_MODEL_2a1efc2f4713416f8c221be80c1ab788"
          }
        },
        "21df28b5eac448479de7586dac6f2757": {
          "model_module": "@jupyter-widgets/controls",
          "model_name": "HTMLModel",
          "state": {
            "_view_name": "HTMLView",
            "style": "IPY_MODEL_128850ceaebd4bfcbce05d00077fa3a2",
            "_dom_classes": [],
            "description": "",
            "_model_name": "HTMLModel",
            "placeholder": "​",
            "_view_module": "@jupyter-widgets/controls",
            "_model_module_version": "1.5.0",
            "value": " 6144/? [00:42&lt;00:00, 144.64it/s]",
            "_view_count": null,
            "_view_module_version": "1.5.0",
            "description_tooltip": null,
            "_model_module": "@jupyter-widgets/controls",
            "layout": "IPY_MODEL_37866d980cb94f2d8e1666c9c60eeff4"
          }
        },
        "9aae7737491049d2ba61da1418c9ec7b": {
          "model_module": "@jupyter-widgets/controls",
          "model_name": "ProgressStyleModel",
          "state": {
            "_view_name": "StyleView",
            "_model_name": "ProgressStyleModel",
            "description_width": "initial",
            "_view_module": "@jupyter-widgets/base",
            "_model_module_version": "1.5.0",
            "_view_count": null,
            "_view_module_version": "1.2.0",
            "bar_color": null,
            "_model_module": "@jupyter-widgets/controls"
          }
        },
        "2a1efc2f4713416f8c221be80c1ab788": {
          "model_module": "@jupyter-widgets/base",
          "model_name": "LayoutModel",
          "state": {
            "_view_name": "LayoutView",
            "grid_template_rows": null,
            "right": null,
            "justify_content": null,
            "_view_module": "@jupyter-widgets/base",
            "overflow": null,
            "_model_module_version": "1.2.0",
            "_view_count": null,
            "flex_flow": null,
            "width": null,
            "min_width": null,
            "border": null,
            "align_items": null,
            "bottom": null,
            "_model_module": "@jupyter-widgets/base",
            "top": null,
            "grid_column": null,
            "overflow_y": null,
            "overflow_x": null,
            "grid_auto_flow": null,
            "grid_area": null,
            "grid_template_columns": null,
            "flex": null,
            "_model_name": "LayoutModel",
            "justify_items": null,
            "grid_row": null,
            "max_height": null,
            "align_content": null,
            "visibility": null,
            "align_self": null,
            "height": null,
            "min_height": null,
            "padding": null,
            "grid_auto_rows": null,
            "grid_gap": null,
            "max_width": null,
            "order": null,
            "_view_module_version": "1.2.0",
            "grid_template_areas": null,
            "object_position": null,
            "object_fit": null,
            "grid_auto_columns": null,
            "margin": null,
            "display": null,
            "left": null
          }
        },
        "128850ceaebd4bfcbce05d00077fa3a2": {
          "model_module": "@jupyter-widgets/controls",
          "model_name": "DescriptionStyleModel",
          "state": {
            "_view_name": "StyleView",
            "_model_name": "DescriptionStyleModel",
            "description_width": "",
            "_view_module": "@jupyter-widgets/base",
            "_model_module_version": "1.5.0",
            "_view_count": null,
            "_view_module_version": "1.2.0",
            "_model_module": "@jupyter-widgets/controls"
          }
        },
        "37866d980cb94f2d8e1666c9c60eeff4": {
          "model_module": "@jupyter-widgets/base",
          "model_name": "LayoutModel",
          "state": {
            "_view_name": "LayoutView",
            "grid_template_rows": null,
            "right": null,
            "justify_content": null,
            "_view_module": "@jupyter-widgets/base",
            "overflow": null,
            "_model_module_version": "1.2.0",
            "_view_count": null,
            "flex_flow": null,
            "width": null,
            "min_width": null,
            "border": null,
            "align_items": null,
            "bottom": null,
            "_model_module": "@jupyter-widgets/base",
            "top": null,
            "grid_column": null,
            "overflow_y": null,
            "overflow_x": null,
            "grid_auto_flow": null,
            "grid_area": null,
            "grid_template_columns": null,
            "flex": null,
            "_model_name": "LayoutModel",
            "justify_items": null,
            "grid_row": null,
            "max_height": null,
            "align_content": null,
            "visibility": null,
            "align_self": null,
            "height": null,
            "min_height": null,
            "padding": null,
            "grid_auto_rows": null,
            "grid_gap": null,
            "max_width": null,
            "order": null,
            "_view_module_version": "1.2.0",
            "grid_template_areas": null,
            "object_position": null,
            "object_fit": null,
            "grid_auto_columns": null,
            "margin": null,
            "display": null,
            "left": null
          }
        },
        "b1200cff5a164914bb35622641878043": {
          "model_module": "@jupyter-widgets/controls",
          "model_name": "HBoxModel",
          "state": {
            "_view_name": "HBoxView",
            "_dom_classes": [],
            "_model_name": "HBoxModel",
            "_view_module": "@jupyter-widgets/controls",
            "_model_module_version": "1.5.0",
            "_view_count": null,
            "_view_module_version": "1.5.0",
            "box_style": "",
            "layout": "IPY_MODEL_66b1287fd6d74ffc882c6ef19c949917",
            "_model_module": "@jupyter-widgets/controls",
            "children": [
              "IPY_MODEL_c9b4861c5fd94726a9c4636ce8ba9540",
              "IPY_MODEL_06ed325944ff4b27b84470d8d5e5a31c"
            ]
          }
        },
        "66b1287fd6d74ffc882c6ef19c949917": {
          "model_module": "@jupyter-widgets/base",
          "model_name": "LayoutModel",
          "state": {
            "_view_name": "LayoutView",
            "grid_template_rows": null,
            "right": null,
            "justify_content": null,
            "_view_module": "@jupyter-widgets/base",
            "overflow": null,
            "_model_module_version": "1.2.0",
            "_view_count": null,
            "flex_flow": null,
            "width": null,
            "min_width": null,
            "border": null,
            "align_items": null,
            "bottom": null,
            "_model_module": "@jupyter-widgets/base",
            "top": null,
            "grid_column": null,
            "overflow_y": null,
            "overflow_x": null,
            "grid_auto_flow": null,
            "grid_area": null,
            "grid_template_columns": null,
            "flex": null,
            "_model_name": "LayoutModel",
            "justify_items": null,
            "grid_row": null,
            "max_height": null,
            "align_content": null,
            "visibility": null,
            "align_self": null,
            "height": null,
            "min_height": null,
            "padding": null,
            "grid_auto_rows": null,
            "grid_gap": null,
            "max_width": null,
            "order": null,
            "_view_module_version": "1.2.0",
            "grid_template_areas": null,
            "object_position": null,
            "object_fit": null,
            "grid_auto_columns": null,
            "margin": null,
            "display": null,
            "left": null
          }
        },
        "c9b4861c5fd94726a9c4636ce8ba9540": {
          "model_module": "@jupyter-widgets/controls",
          "model_name": "FloatProgressModel",
          "state": {
            "_view_name": "ProgressView",
            "style": "IPY_MODEL_f806978d2b56481690c2e88cbcc16e27",
            "_dom_classes": [],
            "description": "",
            "_model_name": "FloatProgressModel",
            "bar_style": "success",
            "max": 26421880,
            "_view_module": "@jupyter-widgets/controls",
            "_model_module_version": "1.5.0",
            "value": 26421880,
            "_view_count": null,
            "_view_module_version": "1.5.0",
            "orientation": "horizontal",
            "min": 0,
            "description_tooltip": null,
            "_model_module": "@jupyter-widgets/controls",
            "layout": "IPY_MODEL_e7fd6c4d7f7046d1a8b74b5e5364a07b"
          }
        },
        "06ed325944ff4b27b84470d8d5e5a31c": {
          "model_module": "@jupyter-widgets/controls",
          "model_name": "HTMLModel",
          "state": {
            "_view_name": "HTMLView",
            "style": "IPY_MODEL_6f1c13a1c17a4eca91e12350aa5692c9",
            "_dom_classes": [],
            "description": "",
            "_model_name": "HTMLModel",
            "placeholder": "​",
            "_view_module": "@jupyter-widgets/controls",
            "_model_module_version": "1.5.0",
            "value": " 26422272/? [00:04&lt;00:00, 6183645.50it/s]",
            "_view_count": null,
            "_view_module_version": "1.5.0",
            "description_tooltip": null,
            "_model_module": "@jupyter-widgets/controls",
            "layout": "IPY_MODEL_f9c35fd110d94af083448d83b68e3f7f"
          }
        },
        "f806978d2b56481690c2e88cbcc16e27": {
          "model_module": "@jupyter-widgets/controls",
          "model_name": "ProgressStyleModel",
          "state": {
            "_view_name": "StyleView",
            "_model_name": "ProgressStyleModel",
            "description_width": "initial",
            "_view_module": "@jupyter-widgets/base",
            "_model_module_version": "1.5.0",
            "_view_count": null,
            "_view_module_version": "1.2.0",
            "bar_color": null,
            "_model_module": "@jupyter-widgets/controls"
          }
        },
        "e7fd6c4d7f7046d1a8b74b5e5364a07b": {
          "model_module": "@jupyter-widgets/base",
          "model_name": "LayoutModel",
          "state": {
            "_view_name": "LayoutView",
            "grid_template_rows": null,
            "right": null,
            "justify_content": null,
            "_view_module": "@jupyter-widgets/base",
            "overflow": null,
            "_model_module_version": "1.2.0",
            "_view_count": null,
            "flex_flow": null,
            "width": null,
            "min_width": null,
            "border": null,
            "align_items": null,
            "bottom": null,
            "_model_module": "@jupyter-widgets/base",
            "top": null,
            "grid_column": null,
            "overflow_y": null,
            "overflow_x": null,
            "grid_auto_flow": null,
            "grid_area": null,
            "grid_template_columns": null,
            "flex": null,
            "_model_name": "LayoutModel",
            "justify_items": null,
            "grid_row": null,
            "max_height": null,
            "align_content": null,
            "visibility": null,
            "align_self": null,
            "height": null,
            "min_height": null,
            "padding": null,
            "grid_auto_rows": null,
            "grid_gap": null,
            "max_width": null,
            "order": null,
            "_view_module_version": "1.2.0",
            "grid_template_areas": null,
            "object_position": null,
            "object_fit": null,
            "grid_auto_columns": null,
            "margin": null,
            "display": null,
            "left": null
          }
        },
        "6f1c13a1c17a4eca91e12350aa5692c9": {
          "model_module": "@jupyter-widgets/controls",
          "model_name": "DescriptionStyleModel",
          "state": {
            "_view_name": "StyleView",
            "_model_name": "DescriptionStyleModel",
            "description_width": "",
            "_view_module": "@jupyter-widgets/base",
            "_model_module_version": "1.5.0",
            "_view_count": null,
            "_view_module_version": "1.2.0",
            "_model_module": "@jupyter-widgets/controls"
          }
        },
        "f9c35fd110d94af083448d83b68e3f7f": {
          "model_module": "@jupyter-widgets/base",
          "model_name": "LayoutModel",
          "state": {
            "_view_name": "LayoutView",
            "grid_template_rows": null,
            "right": null,
            "justify_content": null,
            "_view_module": "@jupyter-widgets/base",
            "overflow": null,
            "_model_module_version": "1.2.0",
            "_view_count": null,
            "flex_flow": null,
            "width": null,
            "min_width": null,
            "border": null,
            "align_items": null,
            "bottom": null,
            "_model_module": "@jupyter-widgets/base",
            "top": null,
            "grid_column": null,
            "overflow_y": null,
            "overflow_x": null,
            "grid_auto_flow": null,
            "grid_area": null,
            "grid_template_columns": null,
            "flex": null,
            "_model_name": "LayoutModel",
            "justify_items": null,
            "grid_row": null,
            "max_height": null,
            "align_content": null,
            "visibility": null,
            "align_self": null,
            "height": null,
            "min_height": null,
            "padding": null,
            "grid_auto_rows": null,
            "grid_gap": null,
            "max_width": null,
            "order": null,
            "_view_module_version": "1.2.0",
            "grid_template_areas": null,
            "object_position": null,
            "object_fit": null,
            "grid_auto_columns": null,
            "margin": null,
            "display": null,
            "left": null
          }
        },
        "3870b9e4fa3e408093a336733880cdf1": {
          "model_module": "@jupyter-widgets/controls",
          "model_name": "HBoxModel",
          "state": {
            "_view_name": "HBoxView",
            "_dom_classes": [],
            "_model_name": "HBoxModel",
            "_view_module": "@jupyter-widgets/controls",
            "_model_module_version": "1.5.0",
            "_view_count": null,
            "_view_module_version": "1.5.0",
            "box_style": "",
            "layout": "IPY_MODEL_7fba41480c3e4652831bb47557fc121a",
            "_model_module": "@jupyter-widgets/controls",
            "children": [
              "IPY_MODEL_5042b10d7e94421b8d1919edb23c9da5",
              "IPY_MODEL_a9f24fc149c24861a9567385c984f6d9"
            ]
          }
        },
        "7fba41480c3e4652831bb47557fc121a": {
          "model_module": "@jupyter-widgets/base",
          "model_name": "LayoutModel",
          "state": {
            "_view_name": "LayoutView",
            "grid_template_rows": null,
            "right": null,
            "justify_content": null,
            "_view_module": "@jupyter-widgets/base",
            "overflow": null,
            "_model_module_version": "1.2.0",
            "_view_count": null,
            "flex_flow": null,
            "width": null,
            "min_width": null,
            "border": null,
            "align_items": null,
            "bottom": null,
            "_model_module": "@jupyter-widgets/base",
            "top": null,
            "grid_column": null,
            "overflow_y": null,
            "overflow_x": null,
            "grid_auto_flow": null,
            "grid_area": null,
            "grid_template_columns": null,
            "flex": null,
            "_model_name": "LayoutModel",
            "justify_items": null,
            "grid_row": null,
            "max_height": null,
            "align_content": null,
            "visibility": null,
            "align_self": null,
            "height": null,
            "min_height": null,
            "padding": null,
            "grid_auto_rows": null,
            "grid_gap": null,
            "max_width": null,
            "order": null,
            "_view_module_version": "1.2.0",
            "grid_template_areas": null,
            "object_position": null,
            "object_fit": null,
            "grid_auto_columns": null,
            "margin": null,
            "display": null,
            "left": null
          }
        },
        "5042b10d7e94421b8d1919edb23c9da5": {
          "model_module": "@jupyter-widgets/controls",
          "model_name": "FloatProgressModel",
          "state": {
            "_view_name": "ProgressView",
            "style": "IPY_MODEL_dbf7082542404befa1c0d7396a32bcf6",
            "_dom_classes": [],
            "description": "",
            "_model_name": "FloatProgressModel",
            "bar_style": "success",
            "max": 29515,
            "_view_module": "@jupyter-widgets/controls",
            "_model_module_version": "1.5.0",
            "value": 29515,
            "_view_count": null,
            "_view_module_version": "1.5.0",
            "orientation": "horizontal",
            "min": 0,
            "description_tooltip": null,
            "_model_module": "@jupyter-widgets/controls",
            "layout": "IPY_MODEL_59faa2934cb44dd7bd8d9087d6f5f2b7"
          }
        },
        "a9f24fc149c24861a9567385c984f6d9": {
          "model_module": "@jupyter-widgets/controls",
          "model_name": "HTMLModel",
          "state": {
            "_view_name": "HTMLView",
            "style": "IPY_MODEL_fe7b8eac146549bb87dec321fb1ada9b",
            "_dom_classes": [],
            "description": "",
            "_model_name": "HTMLModel",
            "placeholder": "​",
            "_view_module": "@jupyter-widgets/controls",
            "_model_module_version": "1.5.0",
            "value": " 29696/? [00:00&lt;00:00, 36527.50it/s]",
            "_view_count": null,
            "_view_module_version": "1.5.0",
            "description_tooltip": null,
            "_model_module": "@jupyter-widgets/controls",
            "layout": "IPY_MODEL_59729e9abfd84ced96e87f60f20ddde6"
          }
        },
        "dbf7082542404befa1c0d7396a32bcf6": {
          "model_module": "@jupyter-widgets/controls",
          "model_name": "ProgressStyleModel",
          "state": {
            "_view_name": "StyleView",
            "_model_name": "ProgressStyleModel",
            "description_width": "initial",
            "_view_module": "@jupyter-widgets/base",
            "_model_module_version": "1.5.0",
            "_view_count": null,
            "_view_module_version": "1.2.0",
            "bar_color": null,
            "_model_module": "@jupyter-widgets/controls"
          }
        },
        "59faa2934cb44dd7bd8d9087d6f5f2b7": {
          "model_module": "@jupyter-widgets/base",
          "model_name": "LayoutModel",
          "state": {
            "_view_name": "LayoutView",
            "grid_template_rows": null,
            "right": null,
            "justify_content": null,
            "_view_module": "@jupyter-widgets/base",
            "overflow": null,
            "_model_module_version": "1.2.0",
            "_view_count": null,
            "flex_flow": null,
            "width": null,
            "min_width": null,
            "border": null,
            "align_items": null,
            "bottom": null,
            "_model_module": "@jupyter-widgets/base",
            "top": null,
            "grid_column": null,
            "overflow_y": null,
            "overflow_x": null,
            "grid_auto_flow": null,
            "grid_area": null,
            "grid_template_columns": null,
            "flex": null,
            "_model_name": "LayoutModel",
            "justify_items": null,
            "grid_row": null,
            "max_height": null,
            "align_content": null,
            "visibility": null,
            "align_self": null,
            "height": null,
            "min_height": null,
            "padding": null,
            "grid_auto_rows": null,
            "grid_gap": null,
            "max_width": null,
            "order": null,
            "_view_module_version": "1.2.0",
            "grid_template_areas": null,
            "object_position": null,
            "object_fit": null,
            "grid_auto_columns": null,
            "margin": null,
            "display": null,
            "left": null
          }
        },
        "fe7b8eac146549bb87dec321fb1ada9b": {
          "model_module": "@jupyter-widgets/controls",
          "model_name": "DescriptionStyleModel",
          "state": {
            "_view_name": "StyleView",
            "_model_name": "DescriptionStyleModel",
            "description_width": "",
            "_view_module": "@jupyter-widgets/base",
            "_model_module_version": "1.5.0",
            "_view_count": null,
            "_view_module_version": "1.2.0",
            "_model_module": "@jupyter-widgets/controls"
          }
        },
        "59729e9abfd84ced96e87f60f20ddde6": {
          "model_module": "@jupyter-widgets/base",
          "model_name": "LayoutModel",
          "state": {
            "_view_name": "LayoutView",
            "grid_template_rows": null,
            "right": null,
            "justify_content": null,
            "_view_module": "@jupyter-widgets/base",
            "overflow": null,
            "_model_module_version": "1.2.0",
            "_view_count": null,
            "flex_flow": null,
            "width": null,
            "min_width": null,
            "border": null,
            "align_items": null,
            "bottom": null,
            "_model_module": "@jupyter-widgets/base",
            "top": null,
            "grid_column": null,
            "overflow_y": null,
            "overflow_x": null,
            "grid_auto_flow": null,
            "grid_area": null,
            "grid_template_columns": null,
            "flex": null,
            "_model_name": "LayoutModel",
            "justify_items": null,
            "grid_row": null,
            "max_height": null,
            "align_content": null,
            "visibility": null,
            "align_self": null,
            "height": null,
            "min_height": null,
            "padding": null,
            "grid_auto_rows": null,
            "grid_gap": null,
            "max_width": null,
            "order": null,
            "_view_module_version": "1.2.0",
            "grid_template_areas": null,
            "object_position": null,
            "object_fit": null,
            "grid_auto_columns": null,
            "margin": null,
            "display": null,
            "left": null
          }
        },
        "9224336fc23440c4afb1d6ed3c758912": {
          "model_module": "@jupyter-widgets/controls",
          "model_name": "HBoxModel",
          "state": {
            "_view_name": "HBoxView",
            "_dom_classes": [],
            "_model_name": "HBoxModel",
            "_view_module": "@jupyter-widgets/controls",
            "_model_module_version": "1.5.0",
            "_view_count": null,
            "_view_module_version": "1.5.0",
            "box_style": "",
            "layout": "IPY_MODEL_a21096089e9642e28e3d9d471e330f81",
            "_model_module": "@jupyter-widgets/controls",
            "children": [
              "IPY_MODEL_a7a8b287720a4ad287a9f09704d6209a",
              "IPY_MODEL_659973fa3a3148ec886409eb87dc355a"
            ]
          }
        },
        "a21096089e9642e28e3d9d471e330f81": {
          "model_module": "@jupyter-widgets/base",
          "model_name": "LayoutModel",
          "state": {
            "_view_name": "LayoutView",
            "grid_template_rows": null,
            "right": null,
            "justify_content": null,
            "_view_module": "@jupyter-widgets/base",
            "overflow": null,
            "_model_module_version": "1.2.0",
            "_view_count": null,
            "flex_flow": null,
            "width": null,
            "min_width": null,
            "border": null,
            "align_items": null,
            "bottom": null,
            "_model_module": "@jupyter-widgets/base",
            "top": null,
            "grid_column": null,
            "overflow_y": null,
            "overflow_x": null,
            "grid_auto_flow": null,
            "grid_area": null,
            "grid_template_columns": null,
            "flex": null,
            "_model_name": "LayoutModel",
            "justify_items": null,
            "grid_row": null,
            "max_height": null,
            "align_content": null,
            "visibility": null,
            "align_self": null,
            "height": null,
            "min_height": null,
            "padding": null,
            "grid_auto_rows": null,
            "grid_gap": null,
            "max_width": null,
            "order": null,
            "_view_module_version": "1.2.0",
            "grid_template_areas": null,
            "object_position": null,
            "object_fit": null,
            "grid_auto_columns": null,
            "margin": null,
            "display": null,
            "left": null
          }
        },
        "a7a8b287720a4ad287a9f09704d6209a": {
          "model_module": "@jupyter-widgets/controls",
          "model_name": "FloatProgressModel",
          "state": {
            "_view_name": "ProgressView",
            "style": "IPY_MODEL_8a6820fcb31a475ea85bb3d8e59908ea",
            "_dom_classes": [],
            "description": "",
            "_model_name": "FloatProgressModel",
            "bar_style": "success",
            "max": 4422102,
            "_view_module": "@jupyter-widgets/controls",
            "_model_module_version": "1.5.0",
            "value": 4422102,
            "_view_count": null,
            "_view_module_version": "1.5.0",
            "orientation": "horizontal",
            "min": 0,
            "description_tooltip": null,
            "_model_module": "@jupyter-widgets/controls",
            "layout": "IPY_MODEL_c0f031fef2594579b2e193e3a094e364"
          }
        },
        "659973fa3a3148ec886409eb87dc355a": {
          "model_module": "@jupyter-widgets/controls",
          "model_name": "HTMLModel",
          "state": {
            "_view_name": "HTMLView",
            "style": "IPY_MODEL_538b430b1f9d47529633069a3501500b",
            "_dom_classes": [],
            "description": "",
            "_model_name": "HTMLModel",
            "placeholder": "​",
            "_view_module": "@jupyter-widgets/controls",
            "_model_module_version": "1.5.0",
            "value": " 4422656/? [00:14&lt;00:00, 307533.43it/s]",
            "_view_count": null,
            "_view_module_version": "1.5.0",
            "description_tooltip": null,
            "_model_module": "@jupyter-widgets/controls",
            "layout": "IPY_MODEL_f208fcc76e494322b4113f7c6169771d"
          }
        },
        "8a6820fcb31a475ea85bb3d8e59908ea": {
          "model_module": "@jupyter-widgets/controls",
          "model_name": "ProgressStyleModel",
          "state": {
            "_view_name": "StyleView",
            "_model_name": "ProgressStyleModel",
            "description_width": "initial",
            "_view_module": "@jupyter-widgets/base",
            "_model_module_version": "1.5.0",
            "_view_count": null,
            "_view_module_version": "1.2.0",
            "bar_color": null,
            "_model_module": "@jupyter-widgets/controls"
          }
        },
        "c0f031fef2594579b2e193e3a094e364": {
          "model_module": "@jupyter-widgets/base",
          "model_name": "LayoutModel",
          "state": {
            "_view_name": "LayoutView",
            "grid_template_rows": null,
            "right": null,
            "justify_content": null,
            "_view_module": "@jupyter-widgets/base",
            "overflow": null,
            "_model_module_version": "1.2.0",
            "_view_count": null,
            "flex_flow": null,
            "width": null,
            "min_width": null,
            "border": null,
            "align_items": null,
            "bottom": null,
            "_model_module": "@jupyter-widgets/base",
            "top": null,
            "grid_column": null,
            "overflow_y": null,
            "overflow_x": null,
            "grid_auto_flow": null,
            "grid_area": null,
            "grid_template_columns": null,
            "flex": null,
            "_model_name": "LayoutModel",
            "justify_items": null,
            "grid_row": null,
            "max_height": null,
            "align_content": null,
            "visibility": null,
            "align_self": null,
            "height": null,
            "min_height": null,
            "padding": null,
            "grid_auto_rows": null,
            "grid_gap": null,
            "max_width": null,
            "order": null,
            "_view_module_version": "1.2.0",
            "grid_template_areas": null,
            "object_position": null,
            "object_fit": null,
            "grid_auto_columns": null,
            "margin": null,
            "display": null,
            "left": null
          }
        },
        "538b430b1f9d47529633069a3501500b": {
          "model_module": "@jupyter-widgets/controls",
          "model_name": "DescriptionStyleModel",
          "state": {
            "_view_name": "StyleView",
            "_model_name": "DescriptionStyleModel",
            "description_width": "",
            "_view_module": "@jupyter-widgets/base",
            "_model_module_version": "1.5.0",
            "_view_count": null,
            "_view_module_version": "1.2.0",
            "_model_module": "@jupyter-widgets/controls"
          }
        },
        "f208fcc76e494322b4113f7c6169771d": {
          "model_module": "@jupyter-widgets/base",
          "model_name": "LayoutModel",
          "state": {
            "_view_name": "LayoutView",
            "grid_template_rows": null,
            "right": null,
            "justify_content": null,
            "_view_module": "@jupyter-widgets/base",
            "overflow": null,
            "_model_module_version": "1.2.0",
            "_view_count": null,
            "flex_flow": null,
            "width": null,
            "min_width": null,
            "border": null,
            "align_items": null,
            "bottom": null,
            "_model_module": "@jupyter-widgets/base",
            "top": null,
            "grid_column": null,
            "overflow_y": null,
            "overflow_x": null,
            "grid_auto_flow": null,
            "grid_area": null,
            "grid_template_columns": null,
            "flex": null,
            "_model_name": "LayoutModel",
            "justify_items": null,
            "grid_row": null,
            "max_height": null,
            "align_content": null,
            "visibility": null,
            "align_self": null,
            "height": null,
            "min_height": null,
            "padding": null,
            "grid_auto_rows": null,
            "grid_gap": null,
            "max_width": null,
            "order": null,
            "_view_module_version": "1.2.0",
            "grid_template_areas": null,
            "object_position": null,
            "object_fit": null,
            "grid_auto_columns": null,
            "margin": null,
            "display": null,
            "left": null
          }
        },
        "87d678d0c38f4b7aa117687afbc228a7": {
          "model_module": "@jupyter-widgets/controls",
          "model_name": "HBoxModel",
          "state": {
            "_view_name": "HBoxView",
            "_dom_classes": [],
            "_model_name": "HBoxModel",
            "_view_module": "@jupyter-widgets/controls",
            "_model_module_version": "1.5.0",
            "_view_count": null,
            "_view_module_version": "1.5.0",
            "box_style": "",
            "layout": "IPY_MODEL_b9991244e96047f8ac4150af46625f1b",
            "_model_module": "@jupyter-widgets/controls",
            "children": [
              "IPY_MODEL_a19e92f6813b4f60a86758cdd3fbcd00",
              "IPY_MODEL_7e8835f62b504815844360918c964f22"
            ]
          }
        },
        "b9991244e96047f8ac4150af46625f1b": {
          "model_module": "@jupyter-widgets/base",
          "model_name": "LayoutModel",
          "state": {
            "_view_name": "LayoutView",
            "grid_template_rows": null,
            "right": null,
            "justify_content": null,
            "_view_module": "@jupyter-widgets/base",
            "overflow": null,
            "_model_module_version": "1.2.0",
            "_view_count": null,
            "flex_flow": null,
            "width": null,
            "min_width": null,
            "border": null,
            "align_items": null,
            "bottom": null,
            "_model_module": "@jupyter-widgets/base",
            "top": null,
            "grid_column": null,
            "overflow_y": null,
            "overflow_x": null,
            "grid_auto_flow": null,
            "grid_area": null,
            "grid_template_columns": null,
            "flex": null,
            "_model_name": "LayoutModel",
            "justify_items": null,
            "grid_row": null,
            "max_height": null,
            "align_content": null,
            "visibility": null,
            "align_self": null,
            "height": null,
            "min_height": null,
            "padding": null,
            "grid_auto_rows": null,
            "grid_gap": null,
            "max_width": null,
            "order": null,
            "_view_module_version": "1.2.0",
            "grid_template_areas": null,
            "object_position": null,
            "object_fit": null,
            "grid_auto_columns": null,
            "margin": null,
            "display": null,
            "left": null
          }
        },
        "a19e92f6813b4f60a86758cdd3fbcd00": {
          "model_module": "@jupyter-widgets/controls",
          "model_name": "FloatProgressModel",
          "state": {
            "_view_name": "ProgressView",
            "style": "IPY_MODEL_ac1ec6429363494caece37d1405723bb",
            "_dom_classes": [],
            "description": "",
            "_model_name": "FloatProgressModel",
            "bar_style": "success",
            "max": 5148,
            "_view_module": "@jupyter-widgets/controls",
            "_model_module_version": "1.5.0",
            "value": 5148,
            "_view_count": null,
            "_view_module_version": "1.5.0",
            "orientation": "horizontal",
            "min": 0,
            "description_tooltip": null,
            "_model_module": "@jupyter-widgets/controls",
            "layout": "IPY_MODEL_16572a7acac64b129cfd53a9d0e638e4"
          }
        },
        "7e8835f62b504815844360918c964f22": {
          "model_module": "@jupyter-widgets/controls",
          "model_name": "HTMLModel",
          "state": {
            "_view_name": "HTMLView",
            "style": "IPY_MODEL_610aaf17e34346c6ac276c100830a27c",
            "_dom_classes": [],
            "description": "",
            "_model_name": "HTMLModel",
            "placeholder": "​",
            "_view_module": "@jupyter-widgets/controls",
            "_model_module_version": "1.5.0",
            "value": " 6144/? [00:09&lt;00:00, 675.78it/s]",
            "_view_count": null,
            "_view_module_version": "1.5.0",
            "description_tooltip": null,
            "_model_module": "@jupyter-widgets/controls",
            "layout": "IPY_MODEL_5fa76666c37d4d27beb64703c9c42657"
          }
        },
        "ac1ec6429363494caece37d1405723bb": {
          "model_module": "@jupyter-widgets/controls",
          "model_name": "ProgressStyleModel",
          "state": {
            "_view_name": "StyleView",
            "_model_name": "ProgressStyleModel",
            "description_width": "initial",
            "_view_module": "@jupyter-widgets/base",
            "_model_module_version": "1.5.0",
            "_view_count": null,
            "_view_module_version": "1.2.0",
            "bar_color": null,
            "_model_module": "@jupyter-widgets/controls"
          }
        },
        "16572a7acac64b129cfd53a9d0e638e4": {
          "model_module": "@jupyter-widgets/base",
          "model_name": "LayoutModel",
          "state": {
            "_view_name": "LayoutView",
            "grid_template_rows": null,
            "right": null,
            "justify_content": null,
            "_view_module": "@jupyter-widgets/base",
            "overflow": null,
            "_model_module_version": "1.2.0",
            "_view_count": null,
            "flex_flow": null,
            "width": null,
            "min_width": null,
            "border": null,
            "align_items": null,
            "bottom": null,
            "_model_module": "@jupyter-widgets/base",
            "top": null,
            "grid_column": null,
            "overflow_y": null,
            "overflow_x": null,
            "grid_auto_flow": null,
            "grid_area": null,
            "grid_template_columns": null,
            "flex": null,
            "_model_name": "LayoutModel",
            "justify_items": null,
            "grid_row": null,
            "max_height": null,
            "align_content": null,
            "visibility": null,
            "align_self": null,
            "height": null,
            "min_height": null,
            "padding": null,
            "grid_auto_rows": null,
            "grid_gap": null,
            "max_width": null,
            "order": null,
            "_view_module_version": "1.2.0",
            "grid_template_areas": null,
            "object_position": null,
            "object_fit": null,
            "grid_auto_columns": null,
            "margin": null,
            "display": null,
            "left": null
          }
        },
        "610aaf17e34346c6ac276c100830a27c": {
          "model_module": "@jupyter-widgets/controls",
          "model_name": "DescriptionStyleModel",
          "state": {
            "_view_name": "StyleView",
            "_model_name": "DescriptionStyleModel",
            "description_width": "",
            "_view_module": "@jupyter-widgets/base",
            "_model_module_version": "1.5.0",
            "_view_count": null,
            "_view_module_version": "1.2.0",
            "_model_module": "@jupyter-widgets/controls"
          }
        },
        "5fa76666c37d4d27beb64703c9c42657": {
          "model_module": "@jupyter-widgets/base",
          "model_name": "LayoutModel",
          "state": {
            "_view_name": "LayoutView",
            "grid_template_rows": null,
            "right": null,
            "justify_content": null,
            "_view_module": "@jupyter-widgets/base",
            "overflow": null,
            "_model_module_version": "1.2.0",
            "_view_count": null,
            "flex_flow": null,
            "width": null,
            "min_width": null,
            "border": null,
            "align_items": null,
            "bottom": null,
            "_model_module": "@jupyter-widgets/base",
            "top": null,
            "grid_column": null,
            "overflow_y": null,
            "overflow_x": null,
            "grid_auto_flow": null,
            "grid_area": null,
            "grid_template_columns": null,
            "flex": null,
            "_model_name": "LayoutModel",
            "justify_items": null,
            "grid_row": null,
            "max_height": null,
            "align_content": null,
            "visibility": null,
            "align_self": null,
            "height": null,
            "min_height": null,
            "padding": null,
            "grid_auto_rows": null,
            "grid_gap": null,
            "max_width": null,
            "order": null,
            "_view_module_version": "1.2.0",
            "grid_template_areas": null,
            "object_position": null,
            "object_fit": null,
            "grid_auto_columns": null,
            "margin": null,
            "display": null,
            "left": null
          }
        }
      }
    }
  },
  "cells": [
    {
      "cell_type": "markdown",
      "metadata": {
        "id": "view-in-github",
        "colab_type": "text"
      },
      "source": [
        "<a href=\"https://colab.research.google.com/github/ansehoon1999/hands-on_practice/blob/main/hands_on_17.ipynb\" target=\"_parent\"><img src=\"https://colab.research.google.com/assets/colab-badge.svg\" alt=\"Open In Colab\"/></a>"
      ]
    },
    {
      "cell_type": "markdown",
      "metadata": {
        "id": "ZoH4mwGB_S3f"
      },
      "source": [
        "# 오토인코더"
      ]
    },
    {
      "cell_type": "markdown",
      "metadata": {
        "id": "JtTObIKALN-f"
      },
      "source": [
        "지도 학습 VS 비지도 학습\n",
        "\n",
        "- 분류 모델들은 대다수 정답이 존재하는 데이터들임, 미리 정의된 데이터\n",
        "\n",
        "- 주어진 데이터들을 구분할 수 있는 특정 패턴을 찾아야한다.미리 정의되지 않은 데이터\n",
        "\n",
        "  - ex) Clustering(군집화): 명확히 구분되지 않은 데이터들을 비슷한 특징을 갖는 데이터들끼리 묶어 주는 것\n",
        "\n"
      ]
    },
    {
      "cell_type": "markdown",
      "metadata": {
        "id": "H62gYmbRLqCB"
      },
      "source": [
        "![다운로드.png](data:image/png;base64,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)"
      ]
    },
    {
      "cell_type": "markdown",
      "metadata": {
        "id": "E-DeD7z9LzUd"
      },
      "source": [
        "오토 인코더 모델: 비지도 학습을 진행하는 대표 네트워크\n",
        "\n",
        "특징\n",
        "- 입력과 출력이 같은 구조\n",
        "- 병목 구조 (latent variable, feature, hidden representation)\n",
        "- Encoder-Deocder 구조\n",
        "  - Encoder: 입력 데이터를 받아 압축\n",
        "  - Decoder: 압축된 표현을 풀어 출력물 생성\n",
        "\n",
        "- 과정\n",
        "  - Input Data를 Encoder Network 에 넣어 압축된 특징의 벡터 z, \n",
        "  - 압축된 z벡터로부터 Decoder Network를 통해 Input과 유사한 Output Data 생성\n",
        "\n",
        "※ 정답이 없는 x 데이터만으로 의미를 추출하기 위하여 **x를 입력받아 다시 x를 복원**할 수 있는 신경망을 학습하는 것이 핵심이다.\n",
        "\n",
        "※ 오토 인코더의 핵심은 **입력, 출력의 크기는 같지만** 중간으로 갈 수록 신경망의 차원이 줄어들면서, 입력 특징이 압축되는 잠재 변수(latent variable)를 얻을 수 있게 된다. 이 압축 **데이터는 의미(context, semantic...)의 압축이 일어나게 되며** 이는 단순히 사이즈를 줄이는 압축이 아닌, **중요한 정보만을 담는다**는 압축을 의미한다. 이는 다른 의미론 필연적으로 **불필요한 정보에 대해 정보 손실과정**이 일어난다는 의미로 볼 수 있다.\n",
        "\n"
      ]
    },
    {
      "cell_type": "markdown",
      "metadata": {
        "id": "peQhmo89_XW8"
      },
      "source": [
        "https://yjs-program.tistory.com/163"
      ]
    },
    {
      "cell_type": "code",
      "metadata": {
        "id": "Q7xkGx2cLzDa"
      },
      "source": [
        "import torch\n",
        "import torchvision\n",
        "import torch.nn.functional as F\n",
        "from torch import nn, optim\n",
        "from torchvision import transforms, datasets\n",
        "\n",
        "import matplotlib.pyplot as plt # Matplotlib: 이미지 출력을 돕는 모듈\n",
        "from mpl_toolkits.mplot3d import Axes3D # Axes3D: Matplorlib에서 3차원 plot을 그리는 용도\n",
        "from matplotlib import cm # Data 포인트에 색상입히는 용도\n",
        "import numpy as np # Numpy 행렬 변환"
      ],
      "execution_count": 2,
      "outputs": []
    },
    {
      "cell_type": "code",
      "metadata": {
        "id": "rn-T4CK4_FYw",
        "colab": {
          "base_uri": "https://localhost:8080/",
          "height": 792,
          "referenced_widgets": [
            "18e44e4b5ea84d2ab0cd3cc3027bf73c",
            "eae19cf98e1145cf97ec2e5f70bb5f3a",
            "4cdd59d8b12f466db7192554dcd9e32f",
            "4f46e870e7074e50800b6a5d81f9a925",
            "6d3fb9a5f6674b53951dd7547c174a5d",
            "37de179ae44147f3a41ae87503e693a9",
            "48c0cad6636840059f819e40b05e8a74",
            "77e71e5738f849ce9355009311ccbb7e",
            "67cb980d6910457f874fa1d8d630fd6b",
            "cf92f87c18b149138b48d4b5bc3f1de7",
            "2928c66e4bfb43b69f3d1e355a35da13",
            "ac9fd6d73af942c4b45ab52c44f3ecc1",
            "9b5a7a5d02c74603bcc4e77da9bb88ea",
            "60f76d5652b0452a841ae041b2c1b98d",
            "27c6b7d7a2d34a79aa2d0c568700cb6b",
            "4b11521bc43e4c7594ae13fe0d27c13a",
            "93303c65766b4716ae32cdd0f7919ea0",
            "8f8249f064514fb9a259c49a81ec6f86",
            "3f6030b44f244418b469ae67f571bdee",
            "d5ce13bfd0a647688f707f367a029bbd",
            "0ae7628670734f058d9d5316d39ba6e9",
            "8a0ee1d4925443f5b6be18d2f0246454",
            "9cde07116baa497eb5cbe554dfc36696",
            "e1598e5aeeff4642abe5ed5620fd06f0",
            "8d8cfce9b4504de5990728380dd61c7b",
            "644326a302254b04b7ee812712437573",
            "901df5bbbb5141d08b4d3f6c85be60bd",
            "21df28b5eac448479de7586dac6f2757",
            "9aae7737491049d2ba61da1418c9ec7b",
            "2a1efc2f4713416f8c221be80c1ab788",
            "128850ceaebd4bfcbce05d00077fa3a2",
            "37866d980cb94f2d8e1666c9c60eeff4"
          ]
        },
        "outputId": "866dabdf-e7d9-42b3-b148-da3fb3447f01"
      },
      "source": [
        "EPOCH = 50\n",
        "BATCH_SIZE = 64\n",
        "USE_CUDA = torch.cuda.is_available()\n",
        "DEVICE = torch.device(\"cuda\" if USE_CUDA else \"cpu\")\n",
        "print(\"Using Device:\", DEVICE)\n",
        "\n",
        "\n",
        "trainset = datasets.FashionMNIST(\n",
        "    root = './data',\n",
        "    train = True,\n",
        "    download = True,\n",
        "    transform = transforms.ToTensor()\n",
        ")\n",
        "\n",
        "train_loader = torch.utils.data.DataLoader(\n",
        "    dataset = transet,\n",
        "    batch_size = BATCH_SIZE,\n",
        "    shuffle = True,\n",
        "    num_workers = 2\n",
        ")"
      ],
      "execution_count": 3,
      "outputs": [
        {
          "output_type": "stream",
          "text": [
            "Using Device: cpu\n",
            "Downloading http://fashion-mnist.s3-website.eu-central-1.amazonaws.com/train-images-idx3-ubyte.gz\n",
            "Downloading http://fashion-mnist.s3-website.eu-central-1.amazonaws.com/train-images-idx3-ubyte.gz to ./data/FashionMNIST/raw/train-images-idx3-ubyte.gz\n"
          ],
          "name": "stdout"
        },
        {
          "output_type": "display_data",
          "data": {
            "application/vnd.jupyter.widget-view+json": {
              "model_id": "18e44e4b5ea84d2ab0cd3cc3027bf73c",
              "version_minor": 0,
              "version_major": 2
            },
            "text/plain": [
              "HBox(children=(FloatProgress(value=0.0, max=26421880.0), HTML(value='')))"
            ]
          },
          "metadata": {
            "tags": []
          }
        },
        {
          "output_type": "stream",
          "text": [
            "\n",
            "Extracting ./data/FashionMNIST/raw/train-images-idx3-ubyte.gz to ./data/FashionMNIST/raw\n",
            "\n",
            "Downloading http://fashion-mnist.s3-website.eu-central-1.amazonaws.com/train-labels-idx1-ubyte.gz\n",
            "Downloading http://fashion-mnist.s3-website.eu-central-1.amazonaws.com/train-labels-idx1-ubyte.gz to ./data/FashionMNIST/raw/train-labels-idx1-ubyte.gz\n"
          ],
          "name": "stdout"
        },
        {
          "output_type": "display_data",
          "data": {
            "application/vnd.jupyter.widget-view+json": {
              "model_id": "67cb980d6910457f874fa1d8d630fd6b",
              "version_minor": 0,
              "version_major": 2
            },
            "text/plain": [
              "HBox(children=(FloatProgress(value=0.0, max=29515.0), HTML(value='')))"
            ]
          },
          "metadata": {
            "tags": []
          }
        },
        {
          "output_type": "stream",
          "text": [
            "\n",
            "Extracting ./data/FashionMNIST/raw/train-labels-idx1-ubyte.gz to ./data/FashionMNIST/raw\n",
            "\n",
            "Downloading http://fashion-mnist.s3-website.eu-central-1.amazonaws.com/t10k-images-idx3-ubyte.gz\n",
            "Downloading http://fashion-mnist.s3-website.eu-central-1.amazonaws.com/t10k-images-idx3-ubyte.gz to ./data/FashionMNIST/raw/t10k-images-idx3-ubyte.gz\n"
          ],
          "name": "stdout"
        },
        {
          "output_type": "display_data",
          "data": {
            "application/vnd.jupyter.widget-view+json": {
              "model_id": "93303c65766b4716ae32cdd0f7919ea0",
              "version_minor": 0,
              "version_major": 2
            },
            "text/plain": [
              "HBox(children=(FloatProgress(value=0.0, max=4422102.0), HTML(value='')))"
            ]
          },
          "metadata": {
            "tags": []
          }
        },
        {
          "output_type": "stream",
          "text": [
            "\n",
            "Extracting ./data/FashionMNIST/raw/t10k-images-idx3-ubyte.gz to ./data/FashionMNIST/raw\n",
            "\n",
            "Downloading http://fashion-mnist.s3-website.eu-central-1.amazonaws.com/t10k-labels-idx1-ubyte.gz\n",
            "Downloading http://fashion-mnist.s3-website.eu-central-1.amazonaws.com/t10k-labels-idx1-ubyte.gz to ./data/FashionMNIST/raw/t10k-labels-idx1-ubyte.gz\n"
          ],
          "name": "stdout"
        },
        {
          "output_type": "display_data",
          "data": {
            "application/vnd.jupyter.widget-view+json": {
              "model_id": "8d8cfce9b4504de5990728380dd61c7b",
              "version_minor": 0,
              "version_major": 2
            },
            "text/plain": [
              "HBox(children=(FloatProgress(value=0.0, max=5148.0), HTML(value='')))"
            ]
          },
          "metadata": {
            "tags": []
          }
        },
        {
          "output_type": "stream",
          "text": [
            "\n",
            "Extracting ./data/FashionMNIST/raw/t10k-labels-idx1-ubyte.gz to ./data/FashionMNIST/raw\n",
            "\n"
          ],
          "name": "stdout"
        },
        {
          "output_type": "stream",
          "text": [
            "/usr/local/lib/python3.7/dist-packages/torchvision/datasets/mnist.py:498: UserWarning: The given NumPy array is not writeable, and PyTorch does not support non-writeable tensors. This means you can write to the underlying (supposedly non-writeable) NumPy array using the tensor. You may want to copy the array to protect its data or make it writeable before converting it to a tensor. This type of warning will be suppressed for the rest of this program. (Triggered internally at  /pytorch/torch/csrc/utils/tensor_numpy.cpp:180.)\n",
            "  return torch.from_numpy(parsed.astype(m[2], copy=False)).view(*s)\n"
          ],
          "name": "stderr"
        },
        {
          "output_type": "error",
          "ename": "NameError",
          "evalue": "ignored",
          "traceback": [
            "\u001b[0;31m---------------------------------------------------------------------------\u001b[0m",
            "\u001b[0;31mNameError\u001b[0m                                 Traceback (most recent call last)",
            "\u001b[0;32m<ipython-input-3-1b51b6e1980a>\u001b[0m in \u001b[0;36m<module>\u001b[0;34m()\u001b[0m\n\u001b[1;32m     14\u001b[0m \u001b[0;34m\u001b[0m\u001b[0m\n\u001b[1;32m     15\u001b[0m train_loader = torch.utils.data.DataLoader(\n\u001b[0;32m---> 16\u001b[0;31m     \u001b[0mdataset\u001b[0m \u001b[0;34m=\u001b[0m \u001b[0mtranset\u001b[0m\u001b[0;34m,\u001b[0m\u001b[0;34m\u001b[0m\u001b[0;34m\u001b[0m\u001b[0m\n\u001b[0m\u001b[1;32m     17\u001b[0m     \u001b[0mbatch_size\u001b[0m \u001b[0;34m=\u001b[0m \u001b[0mBATCH_SIZE\u001b[0m\u001b[0;34m,\u001b[0m\u001b[0;34m\u001b[0m\u001b[0;34m\u001b[0m\u001b[0m\n\u001b[1;32m     18\u001b[0m     \u001b[0mshuffle\u001b[0m \u001b[0;34m=\u001b[0m \u001b[0;32mTrue\u001b[0m\u001b[0;34m,\u001b[0m\u001b[0;34m\u001b[0m\u001b[0;34m\u001b[0m\u001b[0m\n",
            "\u001b[0;31mNameError\u001b[0m: name 'transet' is not defined"
          ]
        }
      ]
    },
    {
      "cell_type": "code",
      "metadata": {
        "id": "4nmZkWIYNiMK"
      },
      "source": [
        "class Autoencoder(nn.Module) :\n",
        "  def __init__(self) :\n",
        "    super(Autoencoder, self).__init__()\n",
        "\n",
        "    self.encoder = nn.Sequential(\n",
        "        nn.Linear(28*28, 128),\n",
        "        nn.ReLU(),\n",
        "        nn.Linear(128, 64),\n",
        "        nn.ReLU(),\n",
        "        nn.ReLU(),\n",
        "        nn.Linear(12, 3),\n",
        "    )\n",
        "\n",
        "    self.decoder = nn.Sequential(\n",
        "            nn.Linear(3, 12),\n",
        "            nn.ReLU(),\n",
        "            nn.Linear(12, 64),\n",
        "            nn.ReLU(),\n",
        "            nn.Linear(64, 128),\n",
        "            nn.ReLU(),\n",
        "            nn.Linear(128, 28*28),\n",
        "            nn.Sigmoid(),       # 픽셀당 0과 1 사이로 값을 출력합니다\n",
        "        )\n",
        "     \n",
        "\n",
        "def forward(self, x) :\n",
        "  encoded = self.encoder(x)\n",
        "  decoded = self.decoder(encoded)\n",
        "  return encoded, decoded\n"
      ],
      "execution_count": 5,
      "outputs": []
    },
    {
      "cell_type": "code",
      "metadata": {
        "id": "X-krWf4nOQny"
      },
      "source": [
        "autoencoder = Autoencoder().to(DEVICE)\n",
        "optimizer = torch.opttim.Adam(autoencoder.parameters(), lr = 0.005)\n",
        "criterion = nn.MSELoss()\n",
        "\n",
        "view_data = transet.data[:5].view(-1, 2220)\n",
        "view_data = view_data.type(torch.FloatTensor)/255\n",
        "\n"
      ],
      "execution_count": null,
      "outputs": []
    },
    {
      "cell_type": "code",
      "metadata": {
        "id": "E8zRw4h1OOu0"
      },
      "source": [
        "def train(autoencoder, train_loader) :\n",
        "  autoencoder.train()\n",
        "\n",
        "  for step, (x, label) in enumerate(train_loader) :\n",
        "    x = x.view(-1, 28 *28).to(DEVICE)\n",
        "    y = x.view(-1, 28 *28).to(DEVICE)\n",
        "    label = label.to(DEVICE)\n",
        "\n",
        "    encoded, decoded =autoencoder(x)\n",
        "    loss = criterion(decoded, y)\n",
        "\n",
        "    optimizer.zero_grad()\n",
        "    loss.backward()\n",
        "    optimizer.step()\n",
        "\n",
        "for epoch in range(1, EPOCH+1) :\n",
        "  train(autoencoder, train_loader)\n",
        "\n",
        "  test_x = view_data.to(DEVICE)\n",
        "  _, decoded_data = autoencoder(test_x)\n",
        "\n",
        "  f, a  =plt.subplots(2, 6, figsize= (5, 2))\n",
        "  print(\"[Epoch {}]\".format(epoch))\n",
        "\n",
        "  for i in range(5) :\n",
        "    img = np.reshape(view_data.data.numpy()[i], (28, 28))\n",
        "    a[0][i].imshow(img, cmap = 'gray')\n",
        "    a[0][i].set_xticks(());\n",
        "    a[0][i].set_yticks(())"
      ],
      "execution_count": null,
      "outputs": []
    },
    {
      "cell_type": "markdown",
      "metadata": {
        "id": "spDhHxJ0l1Uh"
      },
      "source": [
        "noise 제거\n",
        "\n"
      ]
    },
    {
      "cell_type": "code",
      "metadata": {
        "id": "1srss10Yl7bC"
      },
      "source": [
        "def add_noise(img) :\n",
        "  noise = torch.randn(img.size()) * 0.2\n",
        "  noisy_img = img + noise\n",
        "  return noisy_img\n"
      ],
      "execution_count": 6,
      "outputs": []
    },
    {
      "cell_type": "code",
      "metadata": {
        "id": "8pxy4Yn4mCE1"
      },
      "source": [
        "def train(autoencoder, train_loader):\n",
        "    autoencoder.train()\n",
        "    avg_loss = 0\n",
        "    for step, (x, label) in enumerate(train_loader):\n",
        "        noisy_x = add_noise(x)  # 입력에 노이즈 더하기\n",
        "        noisy_x = noisy_x.view(-1, 28*28).to(DEVICE)\n",
        "        y = x.view(-1, 28*28).to(DEVICE)\n",
        "\n",
        "        label = label.to(DEVICE)\n",
        "        encoded, decoded = autoencoder(noisy_x)\n",
        "\n",
        "        loss = criterion(decoded, y)\n",
        "        optimizer.zero_grad()\n",
        "        loss.backward()\n",
        "        optimizer.step()\n",
        "        \n",
        "        avg_loss += loss.item()\n",
        "    return avg_loss / len(train_loader)"
      ],
      "execution_count": null,
      "outputs": []
    },
    {
      "cell_type": "code",
      "metadata": {
        "id": "7NsxlMBdmbUV"
      },
      "source": [
        "testset = datasets.FashionMNIST(\n",
        "    root = './.data/',\n",
        "    train = False,\n",
        "    download = True,\n",
        "    transform = transforms.ToTensor()\n",
        "\n",
        ")\n",
        "\n",
        "sample_data = testset.data[0].view(-1, 28*28)\n",
        "sample_data = sample_data.type(torch.FloatTensor)/255.\n",
        "\n",
        "original_x = sample_data[0]\n",
        "noisy_x = add_noise(original_x).to(DEVICE)\n",
        "_, recovered_x = autoencoder (noisy_x)\n",
        "\n",
        "f, a = plt.subplots(1, 3, figsize(15, 15))\n",
        "\n",
        "#시각화를 위해 넘파이 행렬로 바꿔줍니다.\n",
        "original_img = np.reshape(original_x.to(\"cpu\").data.numpy(), (28, 28))\n",
        "noisy_img = np.reshape(noisy_x.to(\"cpu\").data.numpy(), (28, 28))\n",
        "recovered_img = np.reshape(recovered_x.to(\"cpu\").data.numpy(), (28, 28))\n",
        "\n",
        "# 원본 사진\n",
        "a[0].set_title('Original')\n",
        "a[0].imshow(original_img, cmap='gray')\n",
        "\n",
        "# 오염된 원본 사진\n",
        "a[1].set_title('Noisy')\n",
        "a[1].imshow(noisy_img, cmap='gray')\n",
        "\n",
        "# 복원된 사진\n",
        "a[2].set_title('Recovered')\n",
        "a[2].imshow(recovered_img, cmap='gray')\n",
        "\n",
        "plt.show()"
      ],
      "execution_count": null,
      "outputs": []
    },
    {
      "cell_type": "markdown",
      "metadata": {
        "id": "kwy2RPHe_5mq"
      },
      "source": [
        "# GAN(Generative Adversarial Net)"
      ]
    },
    {
      "cell_type": "markdown",
      "metadata": {
        "id": "hdpA8YZRyDkD"
      },
      "source": [
        ""
      ]
    },
    {
      "cell_type": "markdown",
      "metadata": {
        "id": "mlmEOys-AK5F"
      },
      "source": [
        "http://intelligence.korea.ac.kr/members/wschoi/seminar/tutorial/mnist/pytorch/gan/GAN-%ED%8A%9C%ED%86%A0%EB%A6%AC%EC%96%BC/"
      ]
    },
    {
      "cell_type": "code",
      "metadata": {
        "id": "u3MeZqCFyI0H",
        "outputId": "dcf74165-0cba-478e-9799-1247a32c4c0e",
        "colab": {
          "base_uri": "https://localhost:8080/"
        }
      },
      "source": [
        "import os\n",
        "import torch\n",
        "import torchvision\n",
        "import torch.nn as nn\n",
        "import torch.optim as optim\n",
        "from torchvision import transforms, datasets\n",
        "from torchvision.utils import save_image\n",
        "import matplotlib.pyplot as plt\n",
        "import numpy as np\n",
        "\n",
        "# 하이퍼파라미터\n",
        "EPOCHS = 500\n",
        "BATCH_SIZE = 100\n",
        "USE_CUDA = torch.cuda.is_available()\n",
        "DEVICE = torch.device(\"cuda\" if USE_CUDA else \"cpu\")\n",
        "print(\"Using Device:\", DEVICE)"
      ],
      "execution_count": 12,
      "outputs": [
        {
          "output_type": "stream",
          "text": [
            "Using Device: cuda\n"
          ],
          "name": "stdout"
        }
      ]
    },
    {
      "cell_type": "code",
      "metadata": {
        "id": "lN_Ea_-GyaI1",
        "outputId": "b1eb20a4-2b5b-484c-a03e-dc0e0f5c7fe1",
        "colab": {
          "base_uri": "https://localhost:8080/",
          "height": 517,
          "referenced_widgets": [
            "b1200cff5a164914bb35622641878043",
            "66b1287fd6d74ffc882c6ef19c949917",
            "c9b4861c5fd94726a9c4636ce8ba9540",
            "06ed325944ff4b27b84470d8d5e5a31c",
            "f806978d2b56481690c2e88cbcc16e27",
            "e7fd6c4d7f7046d1a8b74b5e5364a07b",
            "6f1c13a1c17a4eca91e12350aa5692c9",
            "f9c35fd110d94af083448d83b68e3f7f",
            "3870b9e4fa3e408093a336733880cdf1",
            "7fba41480c3e4652831bb47557fc121a",
            "5042b10d7e94421b8d1919edb23c9da5",
            "a9f24fc149c24861a9567385c984f6d9",
            "dbf7082542404befa1c0d7396a32bcf6",
            "59faa2934cb44dd7bd8d9087d6f5f2b7",
            "fe7b8eac146549bb87dec321fb1ada9b",
            "59729e9abfd84ced96e87f60f20ddde6",
            "9224336fc23440c4afb1d6ed3c758912",
            "a21096089e9642e28e3d9d471e330f81",
            "a7a8b287720a4ad287a9f09704d6209a",
            "659973fa3a3148ec886409eb87dc355a",
            "8a6820fcb31a475ea85bb3d8e59908ea",
            "c0f031fef2594579b2e193e3a094e364",
            "538b430b1f9d47529633069a3501500b",
            "f208fcc76e494322b4113f7c6169771d",
            "87d678d0c38f4b7aa117687afbc228a7",
            "b9991244e96047f8ac4150af46625f1b",
            "a19e92f6813b4f60a86758cdd3fbcd00",
            "7e8835f62b504815844360918c964f22",
            "ac1ec6429363494caece37d1405723bb",
            "16572a7acac64b129cfd53a9d0e638e4",
            "610aaf17e34346c6ac276c100830a27c",
            "5fa76666c37d4d27beb64703c9c42657"
          ]
        }
      },
      "source": [
        "# Fashion MNIST 데이터셋\n",
        "trainset = datasets.FashionMNIST(\n",
        "    './.data',\n",
        "    train=True,\n",
        "    download=True,\n",
        "    transform=transforms.Compose([\n",
        "       transforms.ToTensor(),\n",
        "       transforms.Normalize((0.5,), (0.5,))\n",
        "    ])\n",
        ")\n",
        "train_loader = torch.utils.data.DataLoader(\n",
        "    dataset     = trainset,\n",
        "    batch_size  = BATCH_SIZE,\n",
        "    shuffle     = True\n",
        ")"
      ],
      "execution_count": 13,
      "outputs": [
        {
          "output_type": "stream",
          "text": [
            "Downloading http://fashion-mnist.s3-website.eu-central-1.amazonaws.com/train-images-idx3-ubyte.gz\n",
            "Downloading http://fashion-mnist.s3-website.eu-central-1.amazonaws.com/train-images-idx3-ubyte.gz to ./.data/FashionMNIST/raw/train-images-idx3-ubyte.gz\n"
          ],
          "name": "stdout"
        },
        {
          "output_type": "display_data",
          "data": {
            "application/vnd.jupyter.widget-view+json": {
              "model_id": "b1200cff5a164914bb35622641878043",
              "version_minor": 0,
              "version_major": 2
            },
            "text/plain": [
              "HBox(children=(FloatProgress(value=0.0, max=26421880.0), HTML(value='')))"
            ]
          },
          "metadata": {
            "tags": []
          }
        },
        {
          "output_type": "stream",
          "text": [
            "\n",
            "Extracting ./.data/FashionMNIST/raw/train-images-idx3-ubyte.gz to ./.data/FashionMNIST/raw\n",
            "\n",
            "Downloading http://fashion-mnist.s3-website.eu-central-1.amazonaws.com/train-labels-idx1-ubyte.gz\n",
            "Downloading http://fashion-mnist.s3-website.eu-central-1.amazonaws.com/train-labels-idx1-ubyte.gz to ./.data/FashionMNIST/raw/train-labels-idx1-ubyte.gz\n"
          ],
          "name": "stdout"
        },
        {
          "output_type": "display_data",
          "data": {
            "application/vnd.jupyter.widget-view+json": {
              "model_id": "3870b9e4fa3e408093a336733880cdf1",
              "version_minor": 0,
              "version_major": 2
            },
            "text/plain": [
              "HBox(children=(FloatProgress(value=0.0, max=29515.0), HTML(value='')))"
            ]
          },
          "metadata": {
            "tags": []
          }
        },
        {
          "output_type": "stream",
          "text": [
            "\n",
            "Extracting ./.data/FashionMNIST/raw/train-labels-idx1-ubyte.gz to ./.data/FashionMNIST/raw\n",
            "\n",
            "Downloading http://fashion-mnist.s3-website.eu-central-1.amazonaws.com/t10k-images-idx3-ubyte.gz\n",
            "Downloading http://fashion-mnist.s3-website.eu-central-1.amazonaws.com/t10k-images-idx3-ubyte.gz to ./.data/FashionMNIST/raw/t10k-images-idx3-ubyte.gz\n"
          ],
          "name": "stdout"
        },
        {
          "output_type": "display_data",
          "data": {
            "application/vnd.jupyter.widget-view+json": {
              "model_id": "9224336fc23440c4afb1d6ed3c758912",
              "version_minor": 0,
              "version_major": 2
            },
            "text/plain": [
              "HBox(children=(FloatProgress(value=0.0, max=4422102.0), HTML(value='')))"
            ]
          },
          "metadata": {
            "tags": []
          }
        },
        {
          "output_type": "stream",
          "text": [
            "\n",
            "Extracting ./.data/FashionMNIST/raw/t10k-images-idx3-ubyte.gz to ./.data/FashionMNIST/raw\n",
            "\n",
            "Downloading http://fashion-mnist.s3-website.eu-central-1.amazonaws.com/t10k-labels-idx1-ubyte.gz\n",
            "Downloading http://fashion-mnist.s3-website.eu-central-1.amazonaws.com/t10k-labels-idx1-ubyte.gz to ./.data/FashionMNIST/raw/t10k-labels-idx1-ubyte.gz\n"
          ],
          "name": "stdout"
        },
        {
          "output_type": "display_data",
          "data": {
            "application/vnd.jupyter.widget-view+json": {
              "model_id": "87d678d0c38f4b7aa117687afbc228a7",
              "version_minor": 0,
              "version_major": 2
            },
            "text/plain": [
              "HBox(children=(FloatProgress(value=0.0, max=5148.0), HTML(value='')))"
            ]
          },
          "metadata": {
            "tags": []
          }
        },
        {
          "output_type": "stream",
          "text": [
            "\n",
            "Extracting ./.data/FashionMNIST/raw/t10k-labels-idx1-ubyte.gz to ./.data/FashionMNIST/raw\n",
            "\n"
          ],
          "name": "stdout"
        }
      ]
    },
    {
      "cell_type": "code",
      "metadata": {
        "id": "l2Nul49uyNks"
      },
      "source": [
        "# 생성자 (Generator)\n",
        "G = nn.Sequential(\n",
        "        nn.Linear(64, 256),\n",
        "        nn.ReLU(),\n",
        "        nn.Linear(256, 256),\n",
        "        nn.ReLU(),\n",
        "        nn.Linear(256, 784),\n",
        "        nn.Tanh())"
      ],
      "execution_count": 16,
      "outputs": []
    },
    {
      "cell_type": "code",
      "metadata": {
        "id": "bD-7Mqj-ywec"
      },
      "source": [
        "# 판별자 (Discriminator)\n",
        "D = nn.Sequential(\n",
        "        nn.Linear(784, 256),\n",
        "        nn.LeakyReLU(0.2),\n",
        "        nn.Linear(256, 256),\n",
        "        nn.LeakyReLU(0.2),\n",
        "        nn.Linear(256, 1),\n",
        "        nn.Sigmoid())"
      ],
      "execution_count": 15,
      "outputs": []
    },
    {
      "cell_type": "code",
      "metadata": {
        "id": "B0qwEJPV1W4x"
      },
      "source": [
        "# 모델의 가중치를 지정한 장치로 보내기\n",
        "# CUDA(GPU) / CPU\n",
        "D = D.to(DEVICE)\n",
        "G = G.to(DEVICE)\n",
        "\n",
        "# 이진 크로스 엔트로피 (Binary cross entropy) 오차 함수와\n",
        "# 생성자와 판별자를 최적화할 Adam 모듈\n",
        "criterion = nn.BCELoss()\n",
        "d_optimizer = optim.Adam(D.parameters(), lr=0.0002)\n",
        "g_optimizer = optim.Adam(G.parameters(), lr=0.0002)"
      ],
      "execution_count": 18,
      "outputs": []
    },
    {
      "cell_type": "code",
      "metadata": {
        "id": "wwmyFO5Tz50e",
        "outputId": "948bc40d-fed9-4b84-8cb6-b44f20c06327",
        "colab": {
          "base_uri": "https://localhost:8080/",
          "height": 633
        }
      },
      "source": [
        "total_step = len(train_loader)\n",
        "for epoch in range(EPOCHS):\n",
        "    for i, (images, _) in enumerate(train_loader):\n",
        "        images = images.reshape(BATCH_SIZE, -1).to(DEVICE)\n",
        "        \n",
        "        # '진짜'와 '가짜' 레이블 생성\n",
        "        real_labels = torch.ones(BATCH_SIZE, 1).to(DEVICE)# [1,1,1...]\n",
        "        fake_labels = torch.zeros(BATCH_SIZE, 1).to(DEVICE)# [0.0,0...]\n",
        "        \n",
        "        # 판별자가 진짜 이미지를 진짜로 인식하는 오차를 예산\n",
        "        outputs = D(images) # 진짜 이미지를 discriminator의 입력으로 제공\n",
        "        d_loss_real = criterion(outputs, real_labels)\n",
        "        real_score = outputs\n",
        "        \n",
        "        # 무작위 텐서로 가짜 이미지 생성\n",
        "        z = torch.randn(BATCH_SIZE, 64).to(DEVICE)\n",
        "        fake_images = G(z) #G의 입력으로 랜덤 텐서 제공, G가 fake image 생성\n",
        "        \n",
        "        # 판별자가 가짜 이미지를 가짜로 인식하는 오차를 계산\n",
        "        outputs = D(fake_images)# 가짜 이미지를 discriminator의 입력으로 제공\n",
        "        d_loss_fake = criterion(outputs, fake_labels)\n",
        "        fake_score = outputs\n",
        "        \n",
        "        # 진짜와 가짜 이미지를 갖고 낸 오차를 더해서 Discriminator의 오차 계산\n",
        "        d_loss = d_loss_real + d_loss_fake\n",
        "\n",
        "        #------ Discriminator 학습 ------#\n",
        "        # 역전파 알고리즘으로 Discriminator의 학습을 진행\n",
        "        d_optimizer.zero_grad()\n",
        "        g_optimizer.zero_grad()\n",
        "        d_loss.backward()\n",
        "        d_optimizer.step()# Discriminator 학습\n",
        "        \n",
        "        # 생성자가 판별자를 속였는지에 대한 오차(Generator의 loss)를 계산\n",
        "        fake_images = G(z)\n",
        "        outputs = D(fake_images) #한번 학습한 D가 fake image를 \n",
        "        g_loss = criterion(outputs, real_labels)\n",
        "\n",
        "         #------ Generator 학습 ------#\n",
        "        \n",
        "        # 역전파 알고리즘으로 생성자 모델의 학습을 진행\n",
        "        d_optimizer.zero_grad()\n",
        "        g_optimizer.zero_grad()\n",
        "        g_loss.backward()\n",
        "        g_optimizer.step()\n",
        "        \n",
        "    # 학습 진행 알아보기\n",
        "    print('Epoch [{}/{}], d_loss: {:.4f}, g_loss: {:.4f}, D(x): {:.2f}, D(G(z)): {:.2f}' \n",
        "          .format(epoch, EPOCHS, d_loss.item(), g_loss.item(), \n",
        "                  real_score.mean().item(), fake_score.mean().item()))"
      ],
      "execution_count": 19,
      "outputs": [
        {
          "output_type": "stream",
          "text": [
            "Epoch [0/500], d_loss: 0.0439, g_loss: 5.2099, D(x): 0.99, D(G(z)): 0.03\n",
            "Epoch [1/500], d_loss: 0.0569, g_loss: 5.8250, D(x): 0.97, D(G(z)): 0.01\n",
            "Epoch [2/500], d_loss: 0.0368, g_loss: 6.2992, D(x): 0.98, D(G(z)): 0.01\n",
            "Epoch [3/500], d_loss: 0.0095, g_loss: 6.8554, D(x): 1.00, D(G(z)): 0.00\n",
            "Epoch [4/500], d_loss: 0.1041, g_loss: 6.5997, D(x): 0.98, D(G(z)): 0.04\n",
            "Epoch [5/500], d_loss: 0.0947, g_loss: 5.4013, D(x): 0.96, D(G(z)): 0.03\n",
            "Epoch [6/500], d_loss: 0.1618, g_loss: 5.6133, D(x): 0.94, D(G(z)): 0.02\n",
            "Epoch [7/500], d_loss: 0.2204, g_loss: 4.0059, D(x): 0.99, D(G(z)): 0.16\n",
            "Epoch [8/500], d_loss: 0.1783, g_loss: 4.9539, D(x): 0.95, D(G(z)): 0.05\n",
            "Epoch [9/500], d_loss: 0.2350, g_loss: 4.3514, D(x): 0.95, D(G(z)): 0.06\n",
            "Epoch [10/500], d_loss: 0.2073, g_loss: 4.3224, D(x): 0.97, D(G(z)): 0.12\n",
            "Epoch [11/500], d_loss: 0.0920, g_loss: 4.7302, D(x): 0.97, D(G(z)): 0.04\n"
          ],
          "name": "stdout"
        },
        {
          "output_type": "error",
          "ename": "KeyboardInterrupt",
          "evalue": "ignored",
          "traceback": [
            "\u001b[0;31m---------------------------------------------------------------------------\u001b[0m",
            "\u001b[0;31mKeyboardInterrupt\u001b[0m                         Traceback (most recent call last)",
            "\u001b[0;32m<ipython-input-19-da45080f3e60>\u001b[0m in \u001b[0;36m<module>\u001b[0;34m()\u001b[0m\n\u001b[1;32m     34\u001b[0m         \u001b[0;31m# 생성자가 판별자를 속였는지에 대한 오차(Generator의 loss)를 계산\u001b[0m\u001b[0;34m\u001b[0m\u001b[0;34m\u001b[0m\u001b[0;34m\u001b[0m\u001b[0m\n\u001b[1;32m     35\u001b[0m         \u001b[0mfake_images\u001b[0m \u001b[0;34m=\u001b[0m \u001b[0mG\u001b[0m\u001b[0;34m(\u001b[0m\u001b[0mz\u001b[0m\u001b[0;34m)\u001b[0m\u001b[0;34m\u001b[0m\u001b[0;34m\u001b[0m\u001b[0m\n\u001b[0;32m---> 36\u001b[0;31m         \u001b[0moutputs\u001b[0m \u001b[0;34m=\u001b[0m \u001b[0mD\u001b[0m\u001b[0;34m(\u001b[0m\u001b[0mfake_images\u001b[0m\u001b[0;34m)\u001b[0m \u001b[0;31m#한번 학습한 D가 fake image를\u001b[0m\u001b[0;34m\u001b[0m\u001b[0;34m\u001b[0m\u001b[0m\n\u001b[0m\u001b[1;32m     37\u001b[0m         \u001b[0mg_loss\u001b[0m \u001b[0;34m=\u001b[0m \u001b[0mcriterion\u001b[0m\u001b[0;34m(\u001b[0m\u001b[0moutputs\u001b[0m\u001b[0;34m,\u001b[0m \u001b[0mreal_labels\u001b[0m\u001b[0;34m)\u001b[0m\u001b[0;34m\u001b[0m\u001b[0;34m\u001b[0m\u001b[0m\n\u001b[1;32m     38\u001b[0m \u001b[0;34m\u001b[0m\u001b[0m\n",
            "\u001b[0;32m/usr/local/lib/python3.7/dist-packages/torch/nn/modules/module.py\u001b[0m in \u001b[0;36m_call_impl\u001b[0;34m(self, *input, **kwargs)\u001b[0m\n\u001b[1;32m   1049\u001b[0m         if not (self._backward_hooks or self._forward_hooks or self._forward_pre_hooks or _global_backward_hooks\n\u001b[1;32m   1050\u001b[0m                 or _global_forward_hooks or _global_forward_pre_hooks):\n\u001b[0;32m-> 1051\u001b[0;31m             \u001b[0;32mreturn\u001b[0m \u001b[0mforward_call\u001b[0m\u001b[0;34m(\u001b[0m\u001b[0;34m*\u001b[0m\u001b[0minput\u001b[0m\u001b[0;34m,\u001b[0m \u001b[0;34m**\u001b[0m\u001b[0mkwargs\u001b[0m\u001b[0;34m)\u001b[0m\u001b[0;34m\u001b[0m\u001b[0;34m\u001b[0m\u001b[0m\n\u001b[0m\u001b[1;32m   1052\u001b[0m         \u001b[0;31m# Do not call functions when jit is used\u001b[0m\u001b[0;34m\u001b[0m\u001b[0;34m\u001b[0m\u001b[0;34m\u001b[0m\u001b[0m\n\u001b[1;32m   1053\u001b[0m         \u001b[0mfull_backward_hooks\u001b[0m\u001b[0;34m,\u001b[0m \u001b[0mnon_full_backward_hooks\u001b[0m \u001b[0;34m=\u001b[0m \u001b[0;34m[\u001b[0m\u001b[0;34m]\u001b[0m\u001b[0;34m,\u001b[0m \u001b[0;34m[\u001b[0m\u001b[0;34m]\u001b[0m\u001b[0;34m\u001b[0m\u001b[0;34m\u001b[0m\u001b[0m\n",
            "\u001b[0;32m/usr/local/lib/python3.7/dist-packages/torch/nn/modules/container.py\u001b[0m in \u001b[0;36mforward\u001b[0;34m(self, input)\u001b[0m\n\u001b[1;32m    137\u001b[0m     \u001b[0;32mdef\u001b[0m \u001b[0mforward\u001b[0m\u001b[0;34m(\u001b[0m\u001b[0mself\u001b[0m\u001b[0;34m,\u001b[0m \u001b[0minput\u001b[0m\u001b[0;34m)\u001b[0m\u001b[0;34m:\u001b[0m\u001b[0;34m\u001b[0m\u001b[0;34m\u001b[0m\u001b[0m\n\u001b[1;32m    138\u001b[0m         \u001b[0;32mfor\u001b[0m \u001b[0mmodule\u001b[0m \u001b[0;32min\u001b[0m \u001b[0mself\u001b[0m\u001b[0;34m:\u001b[0m\u001b[0;34m\u001b[0m\u001b[0;34m\u001b[0m\u001b[0m\n\u001b[0;32m--> 139\u001b[0;31m             \u001b[0minput\u001b[0m \u001b[0;34m=\u001b[0m \u001b[0mmodule\u001b[0m\u001b[0;34m(\u001b[0m\u001b[0minput\u001b[0m\u001b[0;34m)\u001b[0m\u001b[0;34m\u001b[0m\u001b[0;34m\u001b[0m\u001b[0m\n\u001b[0m\u001b[1;32m    140\u001b[0m         \u001b[0;32mreturn\u001b[0m \u001b[0minput\u001b[0m\u001b[0;34m\u001b[0m\u001b[0;34m\u001b[0m\u001b[0m\n\u001b[1;32m    141\u001b[0m \u001b[0;34m\u001b[0m\u001b[0m\n",
            "\u001b[0;32m/usr/local/lib/python3.7/dist-packages/torch/nn/modules/module.py\u001b[0m in \u001b[0;36m_call_impl\u001b[0;34m(self, *input, **kwargs)\u001b[0m\n\u001b[1;32m   1049\u001b[0m         if not (self._backward_hooks or self._forward_hooks or self._forward_pre_hooks or _global_backward_hooks\n\u001b[1;32m   1050\u001b[0m                 or _global_forward_hooks or _global_forward_pre_hooks):\n\u001b[0;32m-> 1051\u001b[0;31m             \u001b[0;32mreturn\u001b[0m \u001b[0mforward_call\u001b[0m\u001b[0;34m(\u001b[0m\u001b[0;34m*\u001b[0m\u001b[0minput\u001b[0m\u001b[0;34m,\u001b[0m \u001b[0;34m**\u001b[0m\u001b[0mkwargs\u001b[0m\u001b[0;34m)\u001b[0m\u001b[0;34m\u001b[0m\u001b[0;34m\u001b[0m\u001b[0m\n\u001b[0m\u001b[1;32m   1052\u001b[0m         \u001b[0;31m# Do not call functions when jit is used\u001b[0m\u001b[0;34m\u001b[0m\u001b[0;34m\u001b[0m\u001b[0;34m\u001b[0m\u001b[0m\n\u001b[1;32m   1053\u001b[0m         \u001b[0mfull_backward_hooks\u001b[0m\u001b[0;34m,\u001b[0m \u001b[0mnon_full_backward_hooks\u001b[0m \u001b[0;34m=\u001b[0m \u001b[0;34m[\u001b[0m\u001b[0;34m]\u001b[0m\u001b[0;34m,\u001b[0m \u001b[0;34m[\u001b[0m\u001b[0;34m]\u001b[0m\u001b[0;34m\u001b[0m\u001b[0;34m\u001b[0m\u001b[0m\n",
            "\u001b[0;32m/usr/local/lib/python3.7/dist-packages/torch/nn/modules/linear.py\u001b[0m in \u001b[0;36mforward\u001b[0;34m(self, input)\u001b[0m\n\u001b[1;32m     94\u001b[0m \u001b[0;34m\u001b[0m\u001b[0m\n\u001b[1;32m     95\u001b[0m     \u001b[0;32mdef\u001b[0m \u001b[0mforward\u001b[0m\u001b[0;34m(\u001b[0m\u001b[0mself\u001b[0m\u001b[0;34m,\u001b[0m \u001b[0minput\u001b[0m\u001b[0;34m:\u001b[0m \u001b[0mTensor\u001b[0m\u001b[0;34m)\u001b[0m \u001b[0;34m->\u001b[0m \u001b[0mTensor\u001b[0m\u001b[0;34m:\u001b[0m\u001b[0;34m\u001b[0m\u001b[0;34m\u001b[0m\u001b[0m\n\u001b[0;32m---> 96\u001b[0;31m         \u001b[0;32mreturn\u001b[0m \u001b[0mF\u001b[0m\u001b[0;34m.\u001b[0m\u001b[0mlinear\u001b[0m\u001b[0;34m(\u001b[0m\u001b[0minput\u001b[0m\u001b[0;34m,\u001b[0m \u001b[0mself\u001b[0m\u001b[0;34m.\u001b[0m\u001b[0mweight\u001b[0m\u001b[0;34m,\u001b[0m \u001b[0mself\u001b[0m\u001b[0;34m.\u001b[0m\u001b[0mbias\u001b[0m\u001b[0;34m)\u001b[0m\u001b[0;34m\u001b[0m\u001b[0;34m\u001b[0m\u001b[0m\n\u001b[0m\u001b[1;32m     97\u001b[0m \u001b[0;34m\u001b[0m\u001b[0m\n\u001b[1;32m     98\u001b[0m     \u001b[0;32mdef\u001b[0m \u001b[0mextra_repr\u001b[0m\u001b[0;34m(\u001b[0m\u001b[0mself\u001b[0m\u001b[0;34m)\u001b[0m \u001b[0;34m->\u001b[0m \u001b[0mstr\u001b[0m\u001b[0;34m:\u001b[0m\u001b[0;34m\u001b[0m\u001b[0;34m\u001b[0m\u001b[0m\n",
            "\u001b[0;32m/usr/local/lib/python3.7/dist-packages/torch/nn/functional.py\u001b[0m in \u001b[0;36mlinear\u001b[0;34m(input, weight, bias)\u001b[0m\n\u001b[1;32m   1845\u001b[0m     \u001b[0;32mif\u001b[0m \u001b[0mhas_torch_function_variadic\u001b[0m\u001b[0;34m(\u001b[0m\u001b[0minput\u001b[0m\u001b[0;34m,\u001b[0m \u001b[0mweight\u001b[0m\u001b[0;34m)\u001b[0m\u001b[0;34m:\u001b[0m\u001b[0;34m\u001b[0m\u001b[0;34m\u001b[0m\u001b[0m\n\u001b[1;32m   1846\u001b[0m         \u001b[0;32mreturn\u001b[0m \u001b[0mhandle_torch_function\u001b[0m\u001b[0;34m(\u001b[0m\u001b[0mlinear\u001b[0m\u001b[0;34m,\u001b[0m \u001b[0;34m(\u001b[0m\u001b[0minput\u001b[0m\u001b[0;34m,\u001b[0m \u001b[0mweight\u001b[0m\u001b[0;34m)\u001b[0m\u001b[0;34m,\u001b[0m \u001b[0minput\u001b[0m\u001b[0;34m,\u001b[0m \u001b[0mweight\u001b[0m\u001b[0;34m,\u001b[0m \u001b[0mbias\u001b[0m\u001b[0;34m=\u001b[0m\u001b[0mbias\u001b[0m\u001b[0;34m)\u001b[0m\u001b[0;34m\u001b[0m\u001b[0;34m\u001b[0m\u001b[0m\n\u001b[0;32m-> 1847\u001b[0;31m     \u001b[0;32mreturn\u001b[0m \u001b[0mtorch\u001b[0m\u001b[0;34m.\u001b[0m\u001b[0m_C\u001b[0m\u001b[0;34m.\u001b[0m\u001b[0m_nn\u001b[0m\u001b[0;34m.\u001b[0m\u001b[0mlinear\u001b[0m\u001b[0;34m(\u001b[0m\u001b[0minput\u001b[0m\u001b[0;34m,\u001b[0m \u001b[0mweight\u001b[0m\u001b[0;34m,\u001b[0m \u001b[0mbias\u001b[0m\u001b[0;34m)\u001b[0m\u001b[0;34m\u001b[0m\u001b[0;34m\u001b[0m\u001b[0m\n\u001b[0m\u001b[1;32m   1848\u001b[0m \u001b[0;34m\u001b[0m\u001b[0m\n\u001b[1;32m   1849\u001b[0m \u001b[0;34m\u001b[0m\u001b[0m\n",
            "\u001b[0;31mKeyboardInterrupt\u001b[0m: "
          ]
        }
      ]
    },
    {
      "cell_type": "code",
      "metadata": {
        "id": "z7CDiusr1Qbv"
      },
      "source": [
        "z = torch.randn(BATCH_SIZE, 64).to(DEVICE)\n",
        "fake_images = G(z)\n",
        "\n",
        "for i in range(10) :\n",
        "  fake_images_img = np.reshape(fake_images.data.cpu().numpy()[i], (28, 28))\n",
        "  plt.imshow(fake_images_img, cmap='gray')\n",
        "  plt.show()\n",
        "\n",
        "  "
      ],
      "execution_count": null,
      "outputs": []
    }
  ]
}